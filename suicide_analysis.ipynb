{
  "cells": [
    {
      "cell_type": "markdown",
      "metadata": {
        "colab_type": "text",
        "id": "zLNoUaB_R4-f"
      },
      "source": [
        "# Setembro Amarelo: análise de Dados de Suicidios no Mundo e no Brasil\n",
        "\n",
        "Todos os anos, temos relatos de pessoas que tiram as suas vidas aqui, acolá e por aí vai. Em um cenário mundial, fala-se de milhões de pessoas que tiram as suas vidas, levando o suicídio a ser considerado um problema de saúde pública.\n",
        "\n",
        "\n",
        "<center><img src=\"https://raw.githubusercontent.com/carlosfab/data_science/master/img/setembro_amarelo.png\"></center>\n",
        "\n",
        "**Setembro Amarelo** é uma iniciativa da Associação Brasileira de Psiquiatria (ABP), em parceria com o Conselho Federal de Medicina (CFM), para divulgar e alertar a população sobre o problema.\n",
        "\n",
        "Oficialmente, o Dia Mundial de Prevenção ao Suicídio ocorre no dia 10 de Setembro, e para este ano o lema foi **\"Se precisar, peça ajuda!\"**.\n",
        "\n",
        "Muito além de simples análises de dados sobre o suicidio, a ideia é trazer uma pequena contribuição que visa ajudar a entender a extensão desse problema no Brasil, em África, no Mundo em geral."
      ]
    },
    {
      "cell_type": "markdown",
      "metadata": {
        "colab_type": "text",
        "id": "E1si-OwNZuNI"
      },
      "source": [
        "## Descrição do Dataset\n",
        "\n",
        "O dataset usado para estas análises foi extraido [neste site](https://www.kaggle.com/datasets/ronaldonyango/global-suicide-rates-1990-to-2022?select=suicide_rates_1990-2022.csv), e traz informações sobre vários países, infelizmente não encontrei dados de Angola. O *dataset* contempla o período entre os anos de 1990 a 2020."
      ]
    },
    {
      "cell_type": "markdown",
      "metadata": {},
      "source": [
        "# Análise dos Dados"
      ]
    },
    {
      "cell_type": "code",
      "execution_count": 107,
      "metadata": {
        "colab": {},
        "colab_type": "code",
        "id": "JX-dbWTb-E5f"
      },
      "outputs": [],
      "source": [
        "# importar bibliotecas necessáras\n",
        "import numpy as np\n",
        "import pandas as pd\n",
        "import matplotlib.pyplot as plt\n",
        "import seaborn as sns\n",
        "import plotly.express as px\n",
        "import plotly.graph_objects as go\n",
        "import plotly.io as pio\n",
        "import plotly.offline as pyo\n",
        "import statsmodels.api as sm\n",
        "import ipywidgets as widgets\n",
        "from ipywidgets import interactive\n",
        "\n",
        "%matplotlib inline\n",
        "import warnings\n",
        "warnings.filterwarnings(\"ignore\")\n",
        "\n"
      ]
    },
    {
      "cell_type": "code",
      "execution_count": 108,
      "metadata": {
        "colab": {},
        "colab_type": "code",
        "id": "07Wbf53k-PN_"
      },
      "outputs": [
        {
          "name": "stdout",
          "output_type": "stream",
          "text": [
            "Formato do DataFrame:  (118560, 18)\n",
            "Número total de países: 117\n"
          ]
        },
        {
          "data": {
            "text/plain": [
              "Index(['RegionCode', 'RegionName', 'CountryCode', 'CountryName', 'Year', 'Sex',\n",
              "       'AgeGroup', 'Generation', 'SuicideCount',\n",
              "       'CauseSpecificDeathPercentage', 'DeathRatePer100K', 'Population', 'GDP',\n",
              "       'GDPPerCapita', 'GrossNationalIncome', 'GNIPerCapita', 'InflationRate',\n",
              "       'EmploymentPopulationRatio'],\n",
              "      dtype='object')"
            ]
          },
          "execution_count": 108,
          "metadata": {},
          "output_type": "execute_result"
        }
      ],
      "source": [
        "# importar os dados sobre suicídio para um DataFrame\n",
        "df = pd.read_csv(\"suicide_rates_1990-2022.csv\")\n",
        "# ver o formato do DataFrame\n",
        "print(\"Formato do DataFrame: \", df.shape)\n",
        "\n",
        "# Contar o número de países únicos\n",
        "num_paises = df['CountryName'].nunique()\n",
        "print(f\"Número total de países: {num_paises}\")\n",
        "df.columns"
      ]
    },
    {
      "cell_type": "code",
      "execution_count": null,
      "metadata": {},
      "outputs": [],
      "source": []
    },
    {
      "cell_type": "markdown",
      "metadata": {
        "colab_type": "text",
        "id": "UVU0wYVcFFEP"
      },
      "source": [
        "### Dicionário de Variáveis\n",
        "\n",
        "Esse arquivo *csv* possui 18 colunas. São elas: \n",
        "* **RegionCode:** Código da região.\n",
        "* **RegionName:** Nome da região.\n",
        "* **CountryCode:** Código do país.\n",
        "* **CountryName:** Nome do país.\n",
        "* **Year:** Ano.\n",
        "  * 1990 a 2022\n",
        "* **Sex:** Gênero (Masculino/Feminino).\n",
        "* **AgeGroup:** Faixa etária.\n",
        "  * 5-14 anos\n",
        "  * 15-24 anos\n",
        "  * 25-34 anos\n",
        "  * 35-54 anos\n",
        "  * 55-74 anos\n",
        "  * 75+ anos\n",
        "* **Generation:** Geração (Ex: Generation Alpha, Generation Z).\n",
        "* **SuicideCount:** Número de suicídios.\n",
        "* **CauseSpecificDeathPercentage:** Percentual de mortes específicas por suicídio.\n",
        "* **DeathRatePer100K:** Taxa de morte por 100 mil habitantes.\n",
        "* **Population:** População.\n",
        "* **GDP:** Produto Interno Bruto (PIB).\n",
        "* **GDPPerCapita:** PIB per capita.\n",
        "* **GrossNationalIncome:** Renda Nacional Bruta.\n",
        "* **GNIPerCapita:** Renda Nacional Bruta per capita.\n",
        "* **InflationRate:** Taxa de inflação.\n",
        "* **EmploymentPopulationRatio:** Proporção de emprego na população."
      ]
    },
    {
      "cell_type": "markdown",
      "metadata": {
        "colab_type": "text",
        "id": "Jj1Aiqxlc3uR"
      },
      "source": [
        "## Análise Exploratória dos Dados\n",
        "\n",
        "O conjunto de dados contém 118.560 linhas e 18 colunas. Como você pode ver abaixo, os dados podem ser agrupados por vários critérios como país, ano, sexo e idade.\n",
        "\n",
        "Além de trabalhar nos dados mundiais, vou também isolar do conjunto de dados um *DataFrame* contendo apenas as informações relacionadas ao Brasil para poder perceber a situação do País comparada com o mundo\n",
        "\n",
        "Para ter uma noção da integridade dos dados, verifiquei isoladamente os *DataFrames* do Brasil e o Mundial. Principalmente quando se quer comparar duas coisas, é importante que eles sejam similares e estatisticamente representativas.\n",
        "\n",
        "Foi necessário fazer ajustes nos dados faltantes de algumas variáveis substituindo-os pela media da respectiva variável"
      ]
    },
    {
      "cell_type": "markdown",
      "metadata": {},
      "source": [
        "### consulta de valres ausentes"
      ]
    },
    {
      "cell_type": "code",
      "execution_count": 109,
      "metadata": {
        "colab": {
          "base_uri": "https://localhost:8080/",
          "height": 567
        },
        "colab_type": "code",
        "id": "m0HS6gfPHXp1",
        "outputId": "4de7aa35-47de-4843-c30a-7882b5e54fea"
      },
      "outputs": [
        {
          "name": "stdout",
          "output_type": "stream",
          "text": [
            "--> Mundial:\n"
          ]
        },
        {
          "data": {
            "text/plain": [
              "RegionCode                          0\n",
              "RegionName                          0\n",
              "CountryCode                         0\n",
              "CountryName                         0\n",
              "Year                                0\n",
              "Sex                                 0\n",
              "AgeGroup                            0\n",
              "Generation                          0\n",
              "SuicideCount                      464\n",
              "CauseSpecificDeathPercentage     4289\n",
              "DeathRatePer100K                10664\n",
              "Population                       5920\n",
              "GDP                              7240\n",
              "GDPPerCapita                     7240\n",
              "GrossNationalIncome              9960\n",
              "GNIPerCapita                    10760\n",
              "InflationRate                   14460\n",
              "EmploymentPopulationRatio       11120\n",
              "dtype: int64"
            ]
          },
          "metadata": {},
          "output_type": "display_data"
        }
      ],
      "source": [
        "# valores ausentes nos dados mundiais\n",
        "print(\"--> Mundial:\")\n",
        "display(df.isnull().sum())"
      ]
    },
    {
      "cell_type": "markdown",
      "metadata": {},
      "source": [
        "### Tratamento de dados vazios"
      ]
    },
    {
      "cell_type": "code",
      "execution_count": 110,
      "metadata": {},
      "outputs": [
        {
          "data": {
            "text/plain": [
              "RegionCode                          0\n",
              "RegionName                          0\n",
              "CountryCode                         0\n",
              "CountryName                         0\n",
              "Year                                0\n",
              "Sex                                 0\n",
              "AgeGroup                            0\n",
              "Generation                          0\n",
              "SuicideCount                        0\n",
              "CauseSpecificDeathPercentage     4289\n",
              "DeathRatePer100K                    0\n",
              "Population                          0\n",
              "GDP                              7240\n",
              "GDPPerCapita                        0\n",
              "GrossNationalIncome              9960\n",
              "GNIPerCapita                    10760\n",
              "InflationRate                   14460\n",
              "EmploymentPopulationRatio       11120\n",
              "dtype: int64"
            ]
          },
          "execution_count": 110,
          "metadata": {},
          "output_type": "execute_result"
        }
      ],
      "source": [
        "# 1. Remover colunas com muitos dados ausentes (definindo um limite de 30% de valores ausentes)\n",
        "ajustes = len(df) * 0.3\n",
        "dados_ajustados = df.dropna(thresh=ajustes, axis=1)\n",
        "\n",
        "# Preencher valores ausentes nas colunas de interesse com a média\n",
        "dados_ajustados['GDPPerCapita'] = dados_ajustados['GDPPerCapita'].fillna(dados_ajustados['GDPPerCapita'].mean())\n",
        "dados_ajustados['DeathRatePer100K'] = dados_ajustados['DeathRatePer100K'].fillna(dados_ajustados['DeathRatePer100K'].mean())\n",
        "dados_ajustados['SuicideCount'] = dados_ajustados['SuicideCount'].fillna(dados_ajustados['SuicideCount'].mean())\n",
        "dados_ajustados['Population'] = dados_ajustados['Population'].fillna(dados_ajustados['Population'].mean())\n",
        "\n",
        "\n",
        "# Verificar se os dados foram preenchidos corretamente\n",
        "dados_ajustados.isnull().sum()\n",
        "\n"
      ]
    },
    {
      "cell_type": "code",
      "execution_count": null,
      "metadata": {},
      "outputs": [],
      "source": []
    },
    {
      "cell_type": "markdown",
      "metadata": {},
      "source": [
        "### Dataframe do Brasil"
      ]
    },
    {
      "cell_type": "code",
      "execution_count": 111,
      "metadata": {},
      "outputs": [
        {
          "name": "stdout",
          "output_type": "stream",
          "text": [
            "Formato do DataFrame:  (1620, 18)\n"
          ]
        },
        {
          "data": {
            "text/html": [
              "<div>\n",
              "<style scoped>\n",
              "    .dataframe tbody tr th:only-of-type {\n",
              "        vertical-align: middle;\n",
              "    }\n",
              "\n",
              "    .dataframe tbody tr th {\n",
              "        vertical-align: top;\n",
              "    }\n",
              "\n",
              "    .dataframe thead th {\n",
              "        text-align: right;\n",
              "    }\n",
              "</style>\n",
              "<table border=\"1\" class=\"dataframe\">\n",
              "  <thead>\n",
              "    <tr style=\"text-align: right;\">\n",
              "      <th></th>\n",
              "      <th>RegionCode</th>\n",
              "      <th>RegionName</th>\n",
              "      <th>CountryCode</th>\n",
              "      <th>CountryName</th>\n",
              "      <th>Year</th>\n",
              "      <th>Sex</th>\n",
              "      <th>AgeGroup</th>\n",
              "      <th>Generation</th>\n",
              "      <th>SuicideCount</th>\n",
              "      <th>CauseSpecificDeathPercentage</th>\n",
              "      <th>DeathRatePer100K</th>\n",
              "      <th>Population</th>\n",
              "      <th>GDP</th>\n",
              "      <th>GDPPerCapita</th>\n",
              "      <th>GrossNationalIncome</th>\n",
              "      <th>GNIPerCapita</th>\n",
              "      <th>InflationRate</th>\n",
              "      <th>EmploymentPopulationRatio</th>\n",
              "    </tr>\n",
              "  </thead>\n",
              "  <tbody>\n",
              "    <tr>\n",
              "      <th>11740</th>\n",
              "      <td>CSA</td>\n",
              "      <td>Central and South America</td>\n",
              "      <td>BRA</td>\n",
              "      <td>Brazil</td>\n",
              "      <td>1990</td>\n",
              "      <td>Male</td>\n",
              "      <td>0-14 years</td>\n",
              "      <td>Generation Alpha</td>\n",
              "      <td>0.0</td>\n",
              "      <td>0.000000</td>\n",
              "      <td>0.000000</td>\n",
              "      <td>2.456184e+07</td>\n",
              "      <td>NaN</td>\n",
              "      <td>17423.508254</td>\n",
              "      <td>NaN</td>\n",
              "      <td>NaN</td>\n",
              "      <td>NaN</td>\n",
              "      <td>NaN</td>\n",
              "    </tr>\n",
              "    <tr>\n",
              "      <th>11741</th>\n",
              "      <td>CSA</td>\n",
              "      <td>Central and South America</td>\n",
              "      <td>BRA</td>\n",
              "      <td>Brazil</td>\n",
              "      <td>1990</td>\n",
              "      <td>Male</td>\n",
              "      <td>0-14 years</td>\n",
              "      <td>Generation Alpha</td>\n",
              "      <td>0.0</td>\n",
              "      <td>0.000000</td>\n",
              "      <td>0.000000</td>\n",
              "      <td>2.456184e+07</td>\n",
              "      <td>NaN</td>\n",
              "      <td>17423.508254</td>\n",
              "      <td>NaN</td>\n",
              "      <td>NaN</td>\n",
              "      <td>NaN</td>\n",
              "      <td>NaN</td>\n",
              "    </tr>\n",
              "    <tr>\n",
              "      <th>11742</th>\n",
              "      <td>CSA</td>\n",
              "      <td>Central and South America</td>\n",
              "      <td>BRA</td>\n",
              "      <td>Brazil</td>\n",
              "      <td>1990</td>\n",
              "      <td>Male</td>\n",
              "      <td>0-14 years</td>\n",
              "      <td>Generation Alpha</td>\n",
              "      <td>1.0</td>\n",
              "      <td>0.023753</td>\n",
              "      <td>0.010931</td>\n",
              "      <td>2.456184e+07</td>\n",
              "      <td>NaN</td>\n",
              "      <td>17423.508254</td>\n",
              "      <td>NaN</td>\n",
              "      <td>NaN</td>\n",
              "      <td>NaN</td>\n",
              "      <td>NaN</td>\n",
              "    </tr>\n",
              "    <tr>\n",
              "      <th>11743</th>\n",
              "      <td>CSA</td>\n",
              "      <td>Central and South America</td>\n",
              "      <td>BRA</td>\n",
              "      <td>Brazil</td>\n",
              "      <td>1990</td>\n",
              "      <td>Male</td>\n",
              "      <td>0-14 years</td>\n",
              "      <td>Generation Alpha</td>\n",
              "      <td>33.0</td>\n",
              "      <td>0.721469</td>\n",
              "      <td>0.395270</td>\n",
              "      <td>2.456184e+07</td>\n",
              "      <td>NaN</td>\n",
              "      <td>17423.508254</td>\n",
              "      <td>NaN</td>\n",
              "      <td>NaN</td>\n",
              "      <td>NaN</td>\n",
              "      <td>NaN</td>\n",
              "    </tr>\n",
              "    <tr>\n",
              "      <th>11744</th>\n",
              "      <td>CSA</td>\n",
              "      <td>Central and South America</td>\n",
              "      <td>BRA</td>\n",
              "      <td>Brazil</td>\n",
              "      <td>1990</td>\n",
              "      <td>Male</td>\n",
              "      <td>15-24 years</td>\n",
              "      <td>Generation Z</td>\n",
              "      <td>249.0</td>\n",
              "      <td>2.038310</td>\n",
              "      <td>3.337410</td>\n",
              "      <td>2.456184e+07</td>\n",
              "      <td>NaN</td>\n",
              "      <td>17423.508254</td>\n",
              "      <td>NaN</td>\n",
              "      <td>NaN</td>\n",
              "      <td>NaN</td>\n",
              "      <td>NaN</td>\n",
              "    </tr>\n",
              "  </tbody>\n",
              "</table>\n",
              "</div>"
            ],
            "text/plain": [
              "      RegionCode                 RegionName CountryCode CountryName  Year  \\\n",
              "11740        CSA  Central and South America         BRA      Brazil  1990   \n",
              "11741        CSA  Central and South America         BRA      Brazil  1990   \n",
              "11742        CSA  Central and South America         BRA      Brazil  1990   \n",
              "11743        CSA  Central and South America         BRA      Brazil  1990   \n",
              "11744        CSA  Central and South America         BRA      Brazil  1990   \n",
              "\n",
              "        Sex     AgeGroup        Generation  SuicideCount  \\\n",
              "11740  Male   0-14 years  Generation Alpha           0.0   \n",
              "11741  Male   0-14 years  Generation Alpha           0.0   \n",
              "11742  Male   0-14 years  Generation Alpha           1.0   \n",
              "11743  Male   0-14 years  Generation Alpha          33.0   \n",
              "11744  Male  15-24 years      Generation Z         249.0   \n",
              "\n",
              "       CauseSpecificDeathPercentage  DeathRatePer100K    Population  GDP  \\\n",
              "11740                      0.000000          0.000000  2.456184e+07  NaN   \n",
              "11741                      0.000000          0.000000  2.456184e+07  NaN   \n",
              "11742                      0.023753          0.010931  2.456184e+07  NaN   \n",
              "11743                      0.721469          0.395270  2.456184e+07  NaN   \n",
              "11744                      2.038310          3.337410  2.456184e+07  NaN   \n",
              "\n",
              "       GDPPerCapita  GrossNationalIncome  GNIPerCapita  InflationRate  \\\n",
              "11740  17423.508254                  NaN           NaN            NaN   \n",
              "11741  17423.508254                  NaN           NaN            NaN   \n",
              "11742  17423.508254                  NaN           NaN            NaN   \n",
              "11743  17423.508254                  NaN           NaN            NaN   \n",
              "11744  17423.508254                  NaN           NaN            NaN   \n",
              "\n",
              "       EmploymentPopulationRatio  \n",
              "11740                        NaN  \n",
              "11741                        NaN  \n",
              "11742                        NaN  \n",
              "11743                        NaN  \n",
              "11744                        NaN  "
            ]
          },
          "execution_count": 111,
          "metadata": {},
          "output_type": "execute_result"
        }
      ],
      "source": [
        "# Dataframe Brasil\n",
        "df_brasil = dados_ajustados[dados_ajustados.CountryName == \"Brazil\"].copy()\n",
        "\n",
        "# ver o formato do novo DataFrame\n",
        "print(\"Formato do DataFrame: \", df_brasil.shape)\n",
        "\n",
        "df_brasil.head()"
      ]
    },
    {
      "cell_type": "code",
      "execution_count": 112,
      "metadata": {},
      "outputs": [
        {
          "name": "stdout",
          "output_type": "stream",
          "text": [
            "--> Mundial:\n"
          ]
        },
        {
          "data": {
            "text/plain": [
              "RegionCode                          0\n",
              "RegionName                          0\n",
              "CountryCode                         0\n",
              "CountryName                         0\n",
              "Year                                0\n",
              "Sex                                 0\n",
              "AgeGroup                            0\n",
              "Generation                          0\n",
              "SuicideCount                        0\n",
              "CauseSpecificDeathPercentage     4289\n",
              "DeathRatePer100K                    0\n",
              "Population                          0\n",
              "GDP                              7240\n",
              "GDPPerCapita                        0\n",
              "GrossNationalIncome              9960\n",
              "GNIPerCapita                    10760\n",
              "InflationRate                   14460\n",
              "EmploymentPopulationRatio       11120\n",
              "dtype: int64"
            ]
          },
          "metadata": {},
          "output_type": "display_data"
        },
        {
          "name": "stdout",
          "output_type": "stream",
          "text": [
            "\n",
            " --.--.--.--.--.--.--.--.--.--. \n",
            "\n",
            "--> Brasil:\n"
          ]
        },
        {
          "data": {
            "text/plain": [
              "RegionCode                       0\n",
              "RegionName                       0\n",
              "CountryCode                      0\n",
              "CountryName                      0\n",
              "Year                             0\n",
              "Sex                              0\n",
              "AgeGroup                         0\n",
              "Generation                       0\n",
              "SuicideCount                     0\n",
              "CauseSpecificDeathPercentage    32\n",
              "DeathRatePer100K                 0\n",
              "Population                       0\n",
              "GDP                             40\n",
              "GDPPerCapita                     0\n",
              "GrossNationalIncome             40\n",
              "GNIPerCapita                    40\n",
              "InflationRate                   40\n",
              "EmploymentPopulationRatio       40\n",
              "dtype: int64"
            ]
          },
          "metadata": {},
          "output_type": "display_data"
        }
      ],
      "source": [
        "# valores ausentes nos dados mundiais\n",
        "print(\"--> Mundial:\")\n",
        "display(dados_ajustados.isnull().sum())\n",
        "\n",
        "print(\"\\n\", \"--.\" * 10, \"\\n\")\n",
        "\n",
        "# velores ausentes nos dados do Brasil\n",
        "print(\"--> Brasil:\")\n",
        "display(df_brasil.isnull().sum())"
      ]
    },
    {
      "cell_type": "markdown",
      "metadata": {},
      "source": [
        "## Total de Subsidios"
      ]
    },
    {
      "cell_type": "code",
      "execution_count": 113,
      "metadata": {},
      "outputs": [
        {
          "name": "stdout",
          "output_type": "stream",
          "text": [
            "O número total de suicídios no mundo no  período de de 1990 a 2022 é: 7.544.214,27 \n",
            " e no Brasil: 269.397,00\n"
          ]
        }
      ],
      "source": [
        "import locale\n",
        "\n",
        "# Definir a localidade para usar ponto como separador de milhar e vírgula como decimal\n",
        "locale.setlocale(locale.LC_ALL, 'pt_BR.UTF-8')\n",
        "\n",
        "# Calcular o número total de suicídios\n",
        "total_suicides = dados_ajustados['SuicideCount'].sum()\n",
        "total_suicides_br = df_brasil['SuicideCount'].sum()\n",
        "\n",
        "# Formatar o número total no formato desejado\n",
        "format_total_suicides = locale.format_string(\"%0.2f\", total_suicides, grouping=True)\n",
        "format_total_suicides_br = locale.format_string(\"%0.2f\", total_suicides_br, grouping=True)\n",
        "\n",
        "# Exibir o número total de suicídios formatado\n",
        "print(f'O número total de suicídios no mundo no  período de de 1990 a 2022 é: {format_total_suicides} \\n e no Brasil: {format_total_suicides_br}')\n"
      ]
    },
    {
      "cell_type": "markdown",
      "metadata": {},
      "source": [
        "# Análise por Regiões"
      ]
    },
    {
      "cell_type": "markdown",
      "metadata": {},
      "source": [
        "### Análise de suicidios por ano - Continentes vs Brasil"
      ]
    },
    {
      "cell_type": "markdown",
      "metadata": {},
      "source": [
        "Alem da análise do número de suicios ao longo dos anos, fiz uma comparação que diz respeito ao número de suicídios cometidos no Brasil por 100 mil habitantes, e a tendência do gráfico em relação à taxa mundial."
      ]
    },
    {
      "cell_type": "code",
      "execution_count": 114,
      "metadata": {},
      "outputs": [
        {
          "data": {
            "application/vnd.plotly.v1+json": {
              "config": {
                "plotlyServerURL": "https://plot.ly"
              },
              "data": [
                {
                  "hovertemplate": "RegionName=Africa<br>Year=%{x}<br>SuicideCount=%{y}<extra></extra>",
                  "legendgroup": "Africa",
                  "line": {
                    "color": "#636efa",
                    "dash": "solid"
                  },
                  "marker": {
                    "symbol": "circle"
                  },
                  "mode": "lines",
                  "name": "Africa",
                  "orientation": "v",
                  "showlegend": true,
                  "type": "scatter",
                  "x": [
                    1990,
                    1991,
                    1992,
                    1993,
                    1994,
                    1995,
                    1996,
                    1997,
                    1998,
                    1999,
                    2000,
                    2001,
                    2002,
                    2003,
                    2004,
                    2005,
                    2006,
                    2007,
                    2008,
                    2009,
                    2010,
                    2011,
                    2012,
                    2013,
                    2014,
                    2015,
                    2016,
                    2017,
                    2018,
                    2019,
                    2020,
                    2021,
                    2022
                  ],
                  "xaxis": "x",
                  "y": [
                    147,
                    137,
                    146,
                    138,
                    129,
                    147,
                    297,
                    226,
                    339,
                    458,
                    453,
                    650,
                    502,
                    504,
                    626,
                    711,
                    776,
                    678,
                    664,
                    642,
                    635,
                    777,
                    907,
                    944,
                    879,
                    744,
                    685,
                    556,
                    507,
                    201,
                    138,
                    141,
                    108
                  ],
                  "yaxis": "y"
                },
                {
                  "hovertemplate": "RegionName=Asia<br>Year=%{x}<br>SuicideCount=%{y}<extra></extra>",
                  "legendgroup": "Asia",
                  "line": {
                    "color": "#EF553B",
                    "dash": "solid"
                  },
                  "marker": {
                    "symbol": "circle"
                  },
                  "mode": "lines",
                  "name": "Asia",
                  "orientation": "v",
                  "showlegend": true,
                  "type": "scatter",
                  "x": [
                    1990,
                    1991,
                    1992,
                    1993,
                    1994,
                    1995,
                    1996,
                    1997,
                    1998,
                    1999,
                    2000,
                    2001,
                    2002,
                    2003,
                    2004,
                    2005,
                    2006,
                    2007,
                    2008,
                    2009,
                    2010,
                    2011,
                    2012,
                    2013,
                    2014,
                    2015,
                    2016,
                    2017,
                    2018,
                    2019,
                    2020,
                    2021,
                    2022
                  ],
                  "xaxis": "x",
                  "y": [
                    34508,
                    33855,
                    35877,
                    33337,
                    35736,
                    39702,
                    46651,
                    49454,
                    60669,
                    59437,
                    58132,
                    51989,
                    58242,
                    62584,
                    59650,
                    59433,
                    57291,
                    59471,
                    55317,
                    64847,
                    64082,
                    63221,
                    57016,
                    60014,
                    59180,
                    55451,
                    53699,
                    54623,
                    51812,
                    54917,
                    37433,
                    37301,
                    612
                  ],
                  "yaxis": "y"
                },
                {
                  "hovertemplate": "RegionName=Central and South America<br>Year=%{x}<br>SuicideCount=%{y}<extra></extra>",
                  "legendgroup": "Central and South America",
                  "line": {
                    "color": "#00cc96",
                    "dash": "solid"
                  },
                  "marker": {
                    "symbol": "circle"
                  },
                  "mode": "lines",
                  "name": "Central and South America",
                  "orientation": "v",
                  "showlegend": true,
                  "type": "scatter",
                  "x": [
                    1990,
                    1991,
                    1992,
                    1993,
                    1994,
                    1995,
                    1996,
                    1997,
                    1998,
                    1999,
                    2000,
                    2001,
                    2002,
                    2003,
                    2004,
                    2005,
                    2006,
                    2007,
                    2008,
                    2009,
                    2010,
                    2011,
                    2012,
                    2013,
                    2014,
                    2015,
                    2016,
                    2017,
                    2018,
                    2019,
                    2020,
                    2021
                  ],
                  "xaxis": "x",
                  "y": [
                    13326,
                    12484,
                    13818,
                    14798,
                    15230,
                    16371,
                    17660,
                    18295,
                    19537,
                    19431,
                    20747,
                    22949,
                    23150,
                    23576,
                    23593,
                    24443,
                    24777,
                    25261,
                    26384,
                    26580,
                    26101,
                    26985,
                    28224,
                    27755,
                    28760,
                    29562,
                    30530,
                    31207,
                    32199,
                    33372,
                    33052,
                    18545
                  ],
                  "yaxis": "y"
                },
                {
                  "hovertemplate": "RegionName=Europe<br>Year=%{x}<br>SuicideCount=%{y}<extra></extra>",
                  "legendgroup": "Europe",
                  "line": {
                    "color": "#ab63fa",
                    "dash": "solid"
                  },
                  "marker": {
                    "symbol": "circle"
                  },
                  "mode": "lines",
                  "name": "Europe",
                  "orientation": "v",
                  "showlegend": true,
                  "type": "scatter",
                  "x": [
                    1990,
                    1991,
                    1992,
                    1993,
                    1994,
                    1995,
                    1996,
                    1997,
                    1998,
                    1999,
                    2000,
                    2001,
                    2002,
                    2003,
                    2004,
                    2005,
                    2006,
                    2007,
                    2008,
                    2009,
                    2010,
                    2011,
                    2012,
                    2013,
                    2014,
                    2015,
                    2016,
                    2017,
                    2018,
                    2019,
                    2020,
                    2021,
                    2022
                  ],
                  "xaxis": "x",
                  "y": [
                    121825,
                    123292,
                    132245,
                    143780,
                    150725,
                    149657,
                    145920,
                    136652,
                    133085,
                    142115,
                    142674,
                    140296,
                    138495,
                    134000,
                    125145,
                    119850,
                    113333,
                    113179,
                    112283,
                    113136,
                    107545,
                    104126,
                    101339,
                    93339,
                    97405,
                    91914,
                    79628,
                    81684,
                    81737,
                    77709,
                    50147,
                    19874,
                    6393
                  ],
                  "yaxis": "y"
                },
                {
                  "hovertemplate": "RegionName=North America and the Caribbean<br>Year=%{x}<br>SuicideCount=%{y}<extra></extra>",
                  "legendgroup": "North America and the Caribbean",
                  "line": {
                    "color": "#FFA15A",
                    "dash": "solid"
                  },
                  "marker": {
                    "symbol": "circle"
                  },
                  "mode": "lines",
                  "name": "North America and the Caribbean",
                  "orientation": "v",
                  "showlegend": true,
                  "type": "scatter",
                  "x": [
                    1990,
                    1991,
                    1992,
                    1993,
                    1994,
                    1995,
                    1996,
                    1997,
                    1998,
                    1999,
                    2000,
                    2001,
                    2002,
                    2003,
                    2004,
                    2005,
                    2006,
                    2007,
                    2008,
                    2009,
                    2010,
                    2011,
                    2012,
                    2013,
                    2014,
                    2015,
                    2016,
                    2017,
                    2018,
                    2019,
                    2020,
                    2021,
                    2022
                  ],
                  "xaxis": "x",
                  "y": [
                    34982,
                    35054,
                    37132,
                    37834,
                    37804,
                    38129,
                    37477,
                    36849,
                    36998,
                    35959,
                    35543,
                    36698,
                    37545,
                    37404,
                    38262,
                    38584,
                    38849,
                    40185,
                    41910,
                    43076,
                    44634,
                    45541,
                    46748,
                    47476,
                    49358,
                    50981,
                    51220,
                    53812,
                    55139,
                    53572,
                    51697,
                    53950,
                    3593
                  ],
                  "yaxis": "y"
                },
                {
                  "hovertemplate": "RegionName=Oceania<br>Year=%{x}<br>SuicideCount=%{y}<extra></extra>",
                  "legendgroup": "Oceania",
                  "line": {
                    "color": "#19d3f3",
                    "dash": "solid"
                  },
                  "marker": {
                    "symbol": "circle"
                  },
                  "mode": "lines",
                  "name": "Oceania",
                  "orientation": "v",
                  "showlegend": true,
                  "type": "scatter",
                  "x": [
                    1990,
                    1991,
                    1992,
                    1993,
                    1994,
                    1995,
                    1996,
                    1997,
                    1998,
                    1999,
                    2000,
                    2001,
                    2002,
                    2003,
                    2004,
                    2005,
                    2006,
                    2007,
                    2008,
                    2009,
                    2010,
                    2011,
                    2012,
                    2013,
                    2014,
                    2015,
                    2016,
                    2017,
                    2018,
                    2019,
                    2020,
                    2021,
                    2022
                  ],
                  "xaxis": "x",
                  "y": [
                    2657,
                    2762,
                    2745,
                    2482,
                    2795,
                    2715,
                    2966,
                    3208,
                    3207,
                    3004,
                    2850,
                    3003,
                    2828,
                    2685,
                    2633,
                    536,
                    2669,
                    2736,
                    2899,
                    2875,
                    2956,
                    2924,
                    3163,
                    3123,
                    3431,
                    3623,
                    3470,
                    3290,
                    3205,
                    3358,
                    3139,
                    3144,
                    3249
                  ],
                  "yaxis": "y"
                },
                {
                  "hovertemplate": "RegionName=Brazil<br>Year=%{x}<br>SuicideCount=%{y}<extra></extra>",
                  "legendgroup": "Brazil",
                  "line": {
                    "color": "#FF6692",
                    "dash": "solid"
                  },
                  "marker": {
                    "symbol": "circle"
                  },
                  "mode": "lines",
                  "name": "Brazil",
                  "orientation": "v",
                  "showlegend": true,
                  "type": "scatter",
                  "x": [
                    1990,
                    1991,
                    1992,
                    1993,
                    1994,
                    1995,
                    1996,
                    1997,
                    1998,
                    1999,
                    2000,
                    2001,
                    2002,
                    2003,
                    2004,
                    2005,
                    2006,
                    2007,
                    2008,
                    2009,
                    2010,
                    2011,
                    2012,
                    2013,
                    2014,
                    2015,
                    2016,
                    2017,
                    2018,
                    2019,
                    2020
                  ],
                  "xaxis": "x",
                  "y": [
                    4843,
                    5182,
                    5252,
                    5547,
                    5931,
                    6584,
                    6748,
                    6932,
                    6986,
                    6533,
                    6781,
                    7740,
                    7728,
                    7865,
                    8018,
                    8552,
                    8643,
                    8871,
                    9211,
                    9379,
                    9454,
                    9856,
                    10328,
                    10538,
                    10660,
                    11187,
                    11436,
                    12507,
                    12741,
                    13523,
                    13841
                  ],
                  "yaxis": "y"
                }
              ],
              "layout": {
                "hoverlabel": {
                  "bgcolor": "white",
                  "font": {
                    "family": "Arial",
                    "size": 14
                  }
                },
                "hovermode": "x unified",
                "legend": {
                  "title": {
                    "text": ""
                  },
                  "tracegroupgap": 0
                },
                "template": {
                  "data": {
                    "bar": [
                      {
                        "error_x": {
                          "color": "#2a3f5f"
                        },
                        "error_y": {
                          "color": "#2a3f5f"
                        },
                        "marker": {
                          "line": {
                            "color": "#E5ECF6",
                            "width": 0.5
                          },
                          "pattern": {
                            "fillmode": "overlay",
                            "size": 10,
                            "solidity": 0.2
                          }
                        },
                        "type": "bar"
                      }
                    ],
                    "barpolar": [
                      {
                        "marker": {
                          "line": {
                            "color": "#E5ECF6",
                            "width": 0.5
                          },
                          "pattern": {
                            "fillmode": "overlay",
                            "size": 10,
                            "solidity": 0.2
                          }
                        },
                        "type": "barpolar"
                      }
                    ],
                    "carpet": [
                      {
                        "aaxis": {
                          "endlinecolor": "#2a3f5f",
                          "gridcolor": "white",
                          "linecolor": "white",
                          "minorgridcolor": "white",
                          "startlinecolor": "#2a3f5f"
                        },
                        "baxis": {
                          "endlinecolor": "#2a3f5f",
                          "gridcolor": "white",
                          "linecolor": "white",
                          "minorgridcolor": "white",
                          "startlinecolor": "#2a3f5f"
                        },
                        "type": "carpet"
                      }
                    ],
                    "choropleth": [
                      {
                        "colorbar": {
                          "outlinewidth": 0,
                          "ticks": ""
                        },
                        "type": "choropleth"
                      }
                    ],
                    "contour": [
                      {
                        "colorbar": {
                          "outlinewidth": 0,
                          "ticks": ""
                        },
                        "colorscale": [
                          [
                            0,
                            "#0d0887"
                          ],
                          [
                            0.1111111111111111,
                            "#46039f"
                          ],
                          [
                            0.2222222222222222,
                            "#7201a8"
                          ],
                          [
                            0.3333333333333333,
                            "#9c179e"
                          ],
                          [
                            0.4444444444444444,
                            "#bd3786"
                          ],
                          [
                            0.5555555555555556,
                            "#d8576b"
                          ],
                          [
                            0.6666666666666666,
                            "#ed7953"
                          ],
                          [
                            0.7777777777777778,
                            "#fb9f3a"
                          ],
                          [
                            0.8888888888888888,
                            "#fdca26"
                          ],
                          [
                            1,
                            "#f0f921"
                          ]
                        ],
                        "type": "contour"
                      }
                    ],
                    "contourcarpet": [
                      {
                        "colorbar": {
                          "outlinewidth": 0,
                          "ticks": ""
                        },
                        "type": "contourcarpet"
                      }
                    ],
                    "heatmap": [
                      {
                        "colorbar": {
                          "outlinewidth": 0,
                          "ticks": ""
                        },
                        "colorscale": [
                          [
                            0,
                            "#0d0887"
                          ],
                          [
                            0.1111111111111111,
                            "#46039f"
                          ],
                          [
                            0.2222222222222222,
                            "#7201a8"
                          ],
                          [
                            0.3333333333333333,
                            "#9c179e"
                          ],
                          [
                            0.4444444444444444,
                            "#bd3786"
                          ],
                          [
                            0.5555555555555556,
                            "#d8576b"
                          ],
                          [
                            0.6666666666666666,
                            "#ed7953"
                          ],
                          [
                            0.7777777777777778,
                            "#fb9f3a"
                          ],
                          [
                            0.8888888888888888,
                            "#fdca26"
                          ],
                          [
                            1,
                            "#f0f921"
                          ]
                        ],
                        "type": "heatmap"
                      }
                    ],
                    "heatmapgl": [
                      {
                        "colorbar": {
                          "outlinewidth": 0,
                          "ticks": ""
                        },
                        "colorscale": [
                          [
                            0,
                            "#0d0887"
                          ],
                          [
                            0.1111111111111111,
                            "#46039f"
                          ],
                          [
                            0.2222222222222222,
                            "#7201a8"
                          ],
                          [
                            0.3333333333333333,
                            "#9c179e"
                          ],
                          [
                            0.4444444444444444,
                            "#bd3786"
                          ],
                          [
                            0.5555555555555556,
                            "#d8576b"
                          ],
                          [
                            0.6666666666666666,
                            "#ed7953"
                          ],
                          [
                            0.7777777777777778,
                            "#fb9f3a"
                          ],
                          [
                            0.8888888888888888,
                            "#fdca26"
                          ],
                          [
                            1,
                            "#f0f921"
                          ]
                        ],
                        "type": "heatmapgl"
                      }
                    ],
                    "histogram": [
                      {
                        "marker": {
                          "pattern": {
                            "fillmode": "overlay",
                            "size": 10,
                            "solidity": 0.2
                          }
                        },
                        "type": "histogram"
                      }
                    ],
                    "histogram2d": [
                      {
                        "colorbar": {
                          "outlinewidth": 0,
                          "ticks": ""
                        },
                        "colorscale": [
                          [
                            0,
                            "#0d0887"
                          ],
                          [
                            0.1111111111111111,
                            "#46039f"
                          ],
                          [
                            0.2222222222222222,
                            "#7201a8"
                          ],
                          [
                            0.3333333333333333,
                            "#9c179e"
                          ],
                          [
                            0.4444444444444444,
                            "#bd3786"
                          ],
                          [
                            0.5555555555555556,
                            "#d8576b"
                          ],
                          [
                            0.6666666666666666,
                            "#ed7953"
                          ],
                          [
                            0.7777777777777778,
                            "#fb9f3a"
                          ],
                          [
                            0.8888888888888888,
                            "#fdca26"
                          ],
                          [
                            1,
                            "#f0f921"
                          ]
                        ],
                        "type": "histogram2d"
                      }
                    ],
                    "histogram2dcontour": [
                      {
                        "colorbar": {
                          "outlinewidth": 0,
                          "ticks": ""
                        },
                        "colorscale": [
                          [
                            0,
                            "#0d0887"
                          ],
                          [
                            0.1111111111111111,
                            "#46039f"
                          ],
                          [
                            0.2222222222222222,
                            "#7201a8"
                          ],
                          [
                            0.3333333333333333,
                            "#9c179e"
                          ],
                          [
                            0.4444444444444444,
                            "#bd3786"
                          ],
                          [
                            0.5555555555555556,
                            "#d8576b"
                          ],
                          [
                            0.6666666666666666,
                            "#ed7953"
                          ],
                          [
                            0.7777777777777778,
                            "#fb9f3a"
                          ],
                          [
                            0.8888888888888888,
                            "#fdca26"
                          ],
                          [
                            1,
                            "#f0f921"
                          ]
                        ],
                        "type": "histogram2dcontour"
                      }
                    ],
                    "mesh3d": [
                      {
                        "colorbar": {
                          "outlinewidth": 0,
                          "ticks": ""
                        },
                        "type": "mesh3d"
                      }
                    ],
                    "parcoords": [
                      {
                        "line": {
                          "colorbar": {
                            "outlinewidth": 0,
                            "ticks": ""
                          }
                        },
                        "type": "parcoords"
                      }
                    ],
                    "pie": [
                      {
                        "automargin": true,
                        "type": "pie"
                      }
                    ],
                    "scatter": [
                      {
                        "fillpattern": {
                          "fillmode": "overlay",
                          "size": 10,
                          "solidity": 0.2
                        },
                        "type": "scatter"
                      }
                    ],
                    "scatter3d": [
                      {
                        "line": {
                          "colorbar": {
                            "outlinewidth": 0,
                            "ticks": ""
                          }
                        },
                        "marker": {
                          "colorbar": {
                            "outlinewidth": 0,
                            "ticks": ""
                          }
                        },
                        "type": "scatter3d"
                      }
                    ],
                    "scattercarpet": [
                      {
                        "marker": {
                          "colorbar": {
                            "outlinewidth": 0,
                            "ticks": ""
                          }
                        },
                        "type": "scattercarpet"
                      }
                    ],
                    "scattergeo": [
                      {
                        "marker": {
                          "colorbar": {
                            "outlinewidth": 0,
                            "ticks": ""
                          }
                        },
                        "type": "scattergeo"
                      }
                    ],
                    "scattergl": [
                      {
                        "marker": {
                          "colorbar": {
                            "outlinewidth": 0,
                            "ticks": ""
                          }
                        },
                        "type": "scattergl"
                      }
                    ],
                    "scattermapbox": [
                      {
                        "marker": {
                          "colorbar": {
                            "outlinewidth": 0,
                            "ticks": ""
                          }
                        },
                        "type": "scattermapbox"
                      }
                    ],
                    "scatterpolar": [
                      {
                        "marker": {
                          "colorbar": {
                            "outlinewidth": 0,
                            "ticks": ""
                          }
                        },
                        "type": "scatterpolar"
                      }
                    ],
                    "scatterpolargl": [
                      {
                        "marker": {
                          "colorbar": {
                            "outlinewidth": 0,
                            "ticks": ""
                          }
                        },
                        "type": "scatterpolargl"
                      }
                    ],
                    "scatterternary": [
                      {
                        "marker": {
                          "colorbar": {
                            "outlinewidth": 0,
                            "ticks": ""
                          }
                        },
                        "type": "scatterternary"
                      }
                    ],
                    "surface": [
                      {
                        "colorbar": {
                          "outlinewidth": 0,
                          "ticks": ""
                        },
                        "colorscale": [
                          [
                            0,
                            "#0d0887"
                          ],
                          [
                            0.1111111111111111,
                            "#46039f"
                          ],
                          [
                            0.2222222222222222,
                            "#7201a8"
                          ],
                          [
                            0.3333333333333333,
                            "#9c179e"
                          ],
                          [
                            0.4444444444444444,
                            "#bd3786"
                          ],
                          [
                            0.5555555555555556,
                            "#d8576b"
                          ],
                          [
                            0.6666666666666666,
                            "#ed7953"
                          ],
                          [
                            0.7777777777777778,
                            "#fb9f3a"
                          ],
                          [
                            0.8888888888888888,
                            "#fdca26"
                          ],
                          [
                            1,
                            "#f0f921"
                          ]
                        ],
                        "type": "surface"
                      }
                    ],
                    "table": [
                      {
                        "cells": {
                          "fill": {
                            "color": "#EBF0F8"
                          },
                          "line": {
                            "color": "white"
                          }
                        },
                        "header": {
                          "fill": {
                            "color": "#C8D4E3"
                          },
                          "line": {
                            "color": "white"
                          }
                        },
                        "type": "table"
                      }
                    ]
                  },
                  "layout": {
                    "annotationdefaults": {
                      "arrowcolor": "#2a3f5f",
                      "arrowhead": 0,
                      "arrowwidth": 1
                    },
                    "autotypenumbers": "strict",
                    "coloraxis": {
                      "colorbar": {
                        "outlinewidth": 0,
                        "ticks": ""
                      }
                    },
                    "colorscale": {
                      "diverging": [
                        [
                          0,
                          "#8e0152"
                        ],
                        [
                          0.1,
                          "#c51b7d"
                        ],
                        [
                          0.2,
                          "#de77ae"
                        ],
                        [
                          0.3,
                          "#f1b6da"
                        ],
                        [
                          0.4,
                          "#fde0ef"
                        ],
                        [
                          0.5,
                          "#f7f7f7"
                        ],
                        [
                          0.6,
                          "#e6f5d0"
                        ],
                        [
                          0.7,
                          "#b8e186"
                        ],
                        [
                          0.8,
                          "#7fbc41"
                        ],
                        [
                          0.9,
                          "#4d9221"
                        ],
                        [
                          1,
                          "#276419"
                        ]
                      ],
                      "sequential": [
                        [
                          0,
                          "#0d0887"
                        ],
                        [
                          0.1111111111111111,
                          "#46039f"
                        ],
                        [
                          0.2222222222222222,
                          "#7201a8"
                        ],
                        [
                          0.3333333333333333,
                          "#9c179e"
                        ],
                        [
                          0.4444444444444444,
                          "#bd3786"
                        ],
                        [
                          0.5555555555555556,
                          "#d8576b"
                        ],
                        [
                          0.6666666666666666,
                          "#ed7953"
                        ],
                        [
                          0.7777777777777778,
                          "#fb9f3a"
                        ],
                        [
                          0.8888888888888888,
                          "#fdca26"
                        ],
                        [
                          1,
                          "#f0f921"
                        ]
                      ],
                      "sequentialminus": [
                        [
                          0,
                          "#0d0887"
                        ],
                        [
                          0.1111111111111111,
                          "#46039f"
                        ],
                        [
                          0.2222222222222222,
                          "#7201a8"
                        ],
                        [
                          0.3333333333333333,
                          "#9c179e"
                        ],
                        [
                          0.4444444444444444,
                          "#bd3786"
                        ],
                        [
                          0.5555555555555556,
                          "#d8576b"
                        ],
                        [
                          0.6666666666666666,
                          "#ed7953"
                        ],
                        [
                          0.7777777777777778,
                          "#fb9f3a"
                        ],
                        [
                          0.8888888888888888,
                          "#fdca26"
                        ],
                        [
                          1,
                          "#f0f921"
                        ]
                      ]
                    },
                    "colorway": [
                      "#636efa",
                      "#EF553B",
                      "#00cc96",
                      "#ab63fa",
                      "#FFA15A",
                      "#19d3f3",
                      "#FF6692",
                      "#B6E880",
                      "#FF97FF",
                      "#FECB52"
                    ],
                    "font": {
                      "color": "#2a3f5f"
                    },
                    "geo": {
                      "bgcolor": "white",
                      "lakecolor": "white",
                      "landcolor": "#E5ECF6",
                      "showlakes": true,
                      "showland": true,
                      "subunitcolor": "white"
                    },
                    "hoverlabel": {
                      "align": "left"
                    },
                    "hovermode": "closest",
                    "mapbox": {
                      "style": "light"
                    },
                    "paper_bgcolor": "white",
                    "plot_bgcolor": "#E5ECF6",
                    "polar": {
                      "angularaxis": {
                        "gridcolor": "white",
                        "linecolor": "white",
                        "ticks": ""
                      },
                      "bgcolor": "#E5ECF6",
                      "radialaxis": {
                        "gridcolor": "white",
                        "linecolor": "white",
                        "ticks": ""
                      }
                    },
                    "scene": {
                      "xaxis": {
                        "backgroundcolor": "#E5ECF6",
                        "gridcolor": "white",
                        "gridwidth": 2,
                        "linecolor": "white",
                        "showbackground": true,
                        "ticks": "",
                        "zerolinecolor": "white"
                      },
                      "yaxis": {
                        "backgroundcolor": "#E5ECF6",
                        "gridcolor": "white",
                        "gridwidth": 2,
                        "linecolor": "white",
                        "showbackground": true,
                        "ticks": "",
                        "zerolinecolor": "white"
                      },
                      "zaxis": {
                        "backgroundcolor": "#E5ECF6",
                        "gridcolor": "white",
                        "gridwidth": 2,
                        "linecolor": "white",
                        "showbackground": true,
                        "ticks": "",
                        "zerolinecolor": "white"
                      }
                    },
                    "shapedefaults": {
                      "line": {
                        "color": "#2a3f5f"
                      }
                    },
                    "ternary": {
                      "aaxis": {
                        "gridcolor": "white",
                        "linecolor": "white",
                        "ticks": ""
                      },
                      "baxis": {
                        "gridcolor": "white",
                        "linecolor": "white",
                        "ticks": ""
                      },
                      "bgcolor": "#E5ECF6",
                      "caxis": {
                        "gridcolor": "white",
                        "linecolor": "white",
                        "ticks": ""
                      }
                    },
                    "title": {
                      "x": 0.05
                    },
                    "xaxis": {
                      "automargin": true,
                      "gridcolor": "white",
                      "linecolor": "white",
                      "ticks": "",
                      "title": {
                        "standoff": 15
                      },
                      "zerolinecolor": "white",
                      "zerolinewidth": 2
                    },
                    "yaxis": {
                      "automargin": true,
                      "gridcolor": "white",
                      "linecolor": "white",
                      "ticks": "",
                      "title": {
                        "standoff": 15
                      },
                      "zerolinecolor": "white",
                      "zerolinewidth": 2
                    }
                  }
                },
                "title": {
                  "text": "Sucidios por Ano - Continentes vs Brasil"
                },
                "xaxis": {
                  "anchor": "y",
                  "domain": [
                    0,
                    1
                  ],
                  "title": {
                    "text": ""
                  }
                },
                "yaxis": {
                  "anchor": "x",
                  "domain": [
                    0,
                    1
                  ],
                  "title": {
                    "text": ""
                  }
                }
              }
            }
          },
          "metadata": {},
          "output_type": "display_data"
        }
      ],
      "source": [
        "\n",
        "# Group data by continent and year\n",
        "grouped_data = df.groupby(['RegionName', 'Year'])['SuicideCount'].sum().reset_index()\n",
        "\n",
        "# Filtrar os dados do Brasil e somar suicídios por ano\n",
        "brazil_data = df[df['CountryName'] == 'Brazil'].groupby(['Year'])['SuicideCount'].sum().reset_index()\n",
        "\n",
        "# Adicionar uma coluna para identificar o Brasil como uma \"região\"\n",
        "brazil_data['RegionName'] = 'Brazil'\n",
        "\n",
        "# Combinar os dados do Brasil com os dados dos continentes\n",
        "combined_data = pd.concat([grouped_data, brazil_data])\n",
        "\n",
        "# Criar o gráfico com os dados combinados\n",
        "fig = px.line(combined_data, x='Year', y='SuicideCount', color='RegionName',\n",
        "              title='Sucidios por Ano - Continentes vs Brasil')\n",
        "\n",
        "# Atualizar o layout\n",
        "fig.update_layout(xaxis_title='', yaxis_title='')\n",
        "\n",
        "# Adicionar uma caixa de informações ao passar o mouse\n",
        "fig.update_layout(\n",
        "    hovermode='x unified',\n",
        "    hoverlabel=dict(\n",
        "        bgcolor='white',\n",
        "        font_size=14,\n",
        "        font_family='Arial'\n",
        "    )\n",
        ")\n",
        "\n",
        "# Atualizar a legenda\n",
        "fig.update_layout(legend_title='')\n",
        "\n",
        "# Exibir o gráfico\n",
        "fig.show()\n"
      ]
    },
    {
      "cell_type": "markdown",
      "metadata": {},
      "source": [
        "### Comparação da taxa pr 100k habitantes Brasil - Mundo"
      ]
    },
    {
      "cell_type": "code",
      "execution_count": 115,
      "metadata": {},
      "outputs": [
        {
          "data": {
            "image/png": "[encoded data removed]",
            "text/plain": [
              "<Figure size 1000x600 with 1 Axes>"
            ]
          },
          "metadata": {},
          "output_type": "display_data"
        }
      ],
      "source": [
        "# Verificar se há valores ausentes nas colunas relevantes para o cálculo\n",
        "df_brasil.isnull().sum()\n",
        "\n",
        "# Agora, calcular a média anual de suicídios por 100 mil habitantes no Brasil e no mundo\n",
        "years = df_brasil['Year'].unique()  # Anos para o eixo X\n",
        "\n",
        "# Calcular a média anual de suicídios por 100k habitantes no Brasil\n",
        "suicides_brasil_mean = df_brasil.groupby('Year')['DeathRatePer100K'].mean()\n",
        "\n",
        "# Calcular a média anual de suicídios por 100k habitantes no mundo\n",
        "suicides_world_mean = dados_ajustados.groupby('Year')['DeathRatePer100K'].mean()\n",
        "\n",
        "# Verificar se há o ano de 2016 e removê-lo (caso necessário)\n",
        "if 2022 in suicides_brasil_mean.index:\n",
        "    suicides_world_mean.drop(2022, inplace=True)\n",
        "\n",
        "# Plotar o gráfico comparativo entre Brasil e o Mundo\n",
        "plt.figure(figsize=(10, 6))\n",
        "ax = sns.lineplot(x=years, y=suicides_brasil_mean, label='Brasil')\n",
        "ax = sns.lineplot(x=suicides_world_mean.index, y=suicides_world_mean, label='Mundo')\n",
        "\n",
        "# Remover as bordas\n",
        "ax.spines['top'].set_visible(False)\n",
        "ax.spines['right'].set_visible(False)\n",
        "ax.spines['left'].set_visible(True)\n",
        "ax.spines['bottom'].set_visible(True)\n",
        "\n",
        "# Ajustes no gráfico\n",
        "plt.legend(title=\"Taxa de suicídio\")\n",
        "plt.title('Comparação da Taxa de Suicídios por 100k habitantes - Brasil vs Mundo')\n",
        "plt.xlabel('')\n",
        "plt.ylabel('')\n",
        "\n",
        "# Remover grid\n",
        "plt.grid(False)\n",
        "\n",
        "# Exibir o gráfico\n",
        "plt.show()\n"
      ]
    },
    {
      "cell_type": "markdown",
      "metadata": {},
      "source": [
        "Nos dois gráficos acima percebe-se que apesar da taxa de suicídios no Brasil ser menor que a média mundial, ela vem crescendo constantemente ao longo de 30 anos.\n",
        "\n",
        "A linha laranja teve um pico por volta de 1994 e 1995, porém reverteu o *slope* e vem caindo ano após ano, com uma tendência de aumento em 2020 que acredito qu esteja relacinado com o COVID-19. Já a linha azul (Brasil) tem um *slope* oscilante praticamente ao longo de todo o período analisado, porem com uma tendência de aumento desde 2014"
      ]
    },
    {
      "cell_type": "markdown",
      "metadata": {},
      "source": [
        "## Análise do número total de suicidios - Continentes vs Brasil"
      ]
    },
    {
      "cell_type": "code",
      "execution_count": 116,
      "metadata": {},
      "outputs": [
        {
          "data": {
            "application/vnd.plotly.v1+json": {
              "config": {
                "plotlyServerURL": "https://plot.ly"
              },
              "data": [
                {
                  "alignmentgroup": "True",
                  "customdata": [
                    "3.62M",
                    "1.67M",
                    "1.36M",
                    "749K",
                    "269K",
                    "96K",
                    "16K"
                  ],
                  "hovertemplate": "RegionName=%{x}<br>SuicideCount=%{y}<extra></extra>",
                  "legendgroup": "",
                  "marker": {
                    "color": "#636efa",
                    "pattern": {
                      "shape": ""
                    }
                  },
                  "name": "",
                  "offsetgroup": "",
                  "orientation": "v",
                  "showlegend": false,
                  "textposition": "outside",
                  "texttemplate": "%{customdata}",
                  "type": "bar",
                  "x": [
                    "Europa",
                    "Ásia",
                    "Norte América",
                    "Centro Sul América",
                    "Brasil",
                    "Oceânia",
                    "África"
                  ],
                  "xaxis": "x",
                  "y": [
                    3624527,
                    1665543,
                    1363995,
                    748702,
                    269397,
                    96330,
                    15592
                  ],
                  "yaxis": "y"
                }
              ],
              "layout": {
                "bargap": 0.2,
                "bargroupgap": 0.1,
                "barmode": "relative",
                "height": 600,
                "legend": {
                  "tracegroupgap": 0
                },
                "showlegend": false,
                "template": {
                  "data": {
                    "bar": [
                      {
                        "error_x": {
                          "color": "#2a3f5f"
                        },
                        "error_y": {
                          "color": "#2a3f5f"
                        },
                        "marker": {
                          "line": {
                            "color": "#E5ECF6",
                            "width": 0.5
                          },
                          "pattern": {
                            "fillmode": "overlay",
                            "size": 10,
                            "solidity": 0.2
                          }
                        },
                        "type": "bar"
                      }
                    ],
                    "barpolar": [
                      {
                        "marker": {
                          "line": {
                            "color": "#E5ECF6",
                            "width": 0.5
                          },
                          "pattern": {
                            "fillmode": "overlay",
                            "size": 10,
                            "solidity": 0.2
                          }
                        },
                        "type": "barpolar"
                      }
                    ],
                    "carpet": [
                      {
                        "aaxis": {
                          "endlinecolor": "#2a3f5f",
                          "gridcolor": "white",
                          "linecolor": "white",
                          "minorgridcolor": "white",
                          "startlinecolor": "#2a3f5f"
                        },
                        "baxis": {
                          "endlinecolor": "#2a3f5f",
                          "gridcolor": "white",
                          "linecolor": "white",
                          "minorgridcolor": "white",
                          "startlinecolor": "#2a3f5f"
                        },
                        "type": "carpet"
                      }
                    ],
                    "choropleth": [
                      {
                        "colorbar": {
                          "outlinewidth": 0,
                          "ticks": ""
                        },
                        "type": "choropleth"
                      }
                    ],
                    "contour": [
                      {
                        "colorbar": {
                          "outlinewidth": 0,
                          "ticks": ""
                        },
                        "colorscale": [
                          [
                            0,
                            "#0d0887"
                          ],
                          [
                            0.1111111111111111,
                            "#46039f"
                          ],
                          [
                            0.2222222222222222,
                            "#7201a8"
                          ],
                          [
                            0.3333333333333333,
                            "#9c179e"
                          ],
                          [
                            0.4444444444444444,
                            "#bd3786"
                          ],
                          [
                            0.5555555555555556,
                            "#d8576b"
                          ],
                          [
                            0.6666666666666666,
                            "#ed7953"
                          ],
                          [
                            0.7777777777777778,
                            "#fb9f3a"
                          ],
                          [
                            0.8888888888888888,
                            "#fdca26"
                          ],
                          [
                            1,
                            "#f0f921"
                          ]
                        ],
                        "type": "contour"
                      }
                    ],
                    "contourcarpet": [
                      {
                        "colorbar": {
                          "outlinewidth": 0,
                          "ticks": ""
                        },
                        "type": "contourcarpet"
                      }
                    ],
                    "heatmap": [
                      {
                        "colorbar": {
                          "outlinewidth": 0,
                          "ticks": ""
                        },
                        "colorscale": [
                          [
                            0,
                            "#0d0887"
                          ],
                          [
                            0.1111111111111111,
                            "#46039f"
                          ],
                          [
                            0.2222222222222222,
                            "#7201a8"
                          ],
                          [
                            0.3333333333333333,
                            "#9c179e"
                          ],
                          [
                            0.4444444444444444,
                            "#bd3786"
                          ],
                          [
                            0.5555555555555556,
                            "#d8576b"
                          ],
                          [
                            0.6666666666666666,
                            "#ed7953"
                          ],
                          [
                            0.7777777777777778,
                            "#fb9f3a"
                          ],
                          [
                            0.8888888888888888,
                            "#fdca26"
                          ],
                          [
                            1,
                            "#f0f921"
                          ]
                        ],
                        "type": "heatmap"
                      }
                    ],
                    "heatmapgl": [
                      {
                        "colorbar": {
                          "outlinewidth": 0,
                          "ticks": ""
                        },
                        "colorscale": [
                          [
                            0,
                            "#0d0887"
                          ],
                          [
                            0.1111111111111111,
                            "#46039f"
                          ],
                          [
                            0.2222222222222222,
                            "#7201a8"
                          ],
                          [
                            0.3333333333333333,
                            "#9c179e"
                          ],
                          [
                            0.4444444444444444,
                            "#bd3786"
                          ],
                          [
                            0.5555555555555556,
                            "#d8576b"
                          ],
                          [
                            0.6666666666666666,
                            "#ed7953"
                          ],
                          [
                            0.7777777777777778,
                            "#fb9f3a"
                          ],
                          [
                            0.8888888888888888,
                            "#fdca26"
                          ],
                          [
                            1,
                            "#f0f921"
                          ]
                        ],
                        "type": "heatmapgl"
                      }
                    ],
                    "histogram": [
                      {
                        "marker": {
                          "pattern": {
                            "fillmode": "overlay",
                            "size": 10,
                            "solidity": 0.2
                          }
                        },
                        "type": "histogram"
                      }
                    ],
                    "histogram2d": [
                      {
                        "colorbar": {
                          "outlinewidth": 0,
                          "ticks": ""
                        },
                        "colorscale": [
                          [
                            0,
                            "#0d0887"
                          ],
                          [
                            0.1111111111111111,
                            "#46039f"
                          ],
                          [
                            0.2222222222222222,
                            "#7201a8"
                          ],
                          [
                            0.3333333333333333,
                            "#9c179e"
                          ],
                          [
                            0.4444444444444444,
                            "#bd3786"
                          ],
                          [
                            0.5555555555555556,
                            "#d8576b"
                          ],
                          [
                            0.6666666666666666,
                            "#ed7953"
                          ],
                          [
                            0.7777777777777778,
                            "#fb9f3a"
                          ],
                          [
                            0.8888888888888888,
                            "#fdca26"
                          ],
                          [
                            1,
                            "#f0f921"
                          ]
                        ],
                        "type": "histogram2d"
                      }
                    ],
                    "histogram2dcontour": [
                      {
                        "colorbar": {
                          "outlinewidth": 0,
                          "ticks": ""
                        },
                        "colorscale": [
                          [
                            0,
                            "#0d0887"
                          ],
                          [
                            0.1111111111111111,
                            "#46039f"
                          ],
                          [
                            0.2222222222222222,
                            "#7201a8"
                          ],
                          [
                            0.3333333333333333,
                            "#9c179e"
                          ],
                          [
                            0.4444444444444444,
                            "#bd3786"
                          ],
                          [
                            0.5555555555555556,
                            "#d8576b"
                          ],
                          [
                            0.6666666666666666,
                            "#ed7953"
                          ],
                          [
                            0.7777777777777778,
                            "#fb9f3a"
                          ],
                          [
                            0.8888888888888888,
                            "#fdca26"
                          ],
                          [
                            1,
                            "#f0f921"
                          ]
                        ],
                        "type": "histogram2dcontour"
                      }
                    ],
                    "mesh3d": [
                      {
                        "colorbar": {
                          "outlinewidth": 0,
                          "ticks": ""
                        },
                        "type": "mesh3d"
                      }
                    ],
                    "parcoords": [
                      {
                        "line": {
                          "colorbar": {
                            "outlinewidth": 0,
                            "ticks": ""
                          }
                        },
                        "type": "parcoords"
                      }
                    ],
                    "pie": [
                      {
                        "automargin": true,
                        "type": "pie"
                      }
                    ],
                    "scatter": [
                      {
                        "fillpattern": {
                          "fillmode": "overlay",
                          "size": 10,
                          "solidity": 0.2
                        },
                        "type": "scatter"
                      }
                    ],
                    "scatter3d": [
                      {
                        "line": {
                          "colorbar": {
                            "outlinewidth": 0,
                            "ticks": ""
                          }
                        },
                        "marker": {
                          "colorbar": {
                            "outlinewidth": 0,
                            "ticks": ""
                          }
                        },
                        "type": "scatter3d"
                      }
                    ],
                    "scattercarpet": [
                      {
                        "marker": {
                          "colorbar": {
                            "outlinewidth": 0,
                            "ticks": ""
                          }
                        },
                        "type": "scattercarpet"
                      }
                    ],
                    "scattergeo": [
                      {
                        "marker": {
                          "colorbar": {
                            "outlinewidth": 0,
                            "ticks": ""
                          }
                        },
                        "type": "scattergeo"
                      }
                    ],
                    "scattergl": [
                      {
                        "marker": {
                          "colorbar": {
                            "outlinewidth": 0,
                            "ticks": ""
                          }
                        },
                        "type": "scattergl"
                      }
                    ],
                    "scattermapbox": [
                      {
                        "marker": {
                          "colorbar": {
                            "outlinewidth": 0,
                            "ticks": ""
                          }
                        },
                        "type": "scattermapbox"
                      }
                    ],
                    "scatterpolar": [
                      {
                        "marker": {
                          "colorbar": {
                            "outlinewidth": 0,
                            "ticks": ""
                          }
                        },
                        "type": "scatterpolar"
                      }
                    ],
                    "scatterpolargl": [
                      {
                        "marker": {
                          "colorbar": {
                            "outlinewidth": 0,
                            "ticks": ""
                          }
                        },
                        "type": "scatterpolargl"
                      }
                    ],
                    "scatterternary": [
                      {
                        "marker": {
                          "colorbar": {
                            "outlinewidth": 0,
                            "ticks": ""
                          }
                        },
                        "type": "scatterternary"
                      }
                    ],
                    "surface": [
                      {
                        "colorbar": {
                          "outlinewidth": 0,
                          "ticks": ""
                        },
                        "colorscale": [
                          [
                            0,
                            "#0d0887"
                          ],
                          [
                            0.1111111111111111,
                            "#46039f"
                          ],
                          [
                            0.2222222222222222,
                            "#7201a8"
                          ],
                          [
                            0.3333333333333333,
                            "#9c179e"
                          ],
                          [
                            0.4444444444444444,
                            "#bd3786"
                          ],
                          [
                            0.5555555555555556,
                            "#d8576b"
                          ],
                          [
                            0.6666666666666666,
                            "#ed7953"
                          ],
                          [
                            0.7777777777777778,
                            "#fb9f3a"
                          ],
                          [
                            0.8888888888888888,
                            "#fdca26"
                          ],
                          [
                            1,
                            "#f0f921"
                          ]
                        ],
                        "type": "surface"
                      }
                    ],
                    "table": [
                      {
                        "cells": {
                          "fill": {
                            "color": "#EBF0F8"
                          },
                          "line": {
                            "color": "white"
                          }
                        },
                        "header": {
                          "fill": {
                            "color": "#C8D4E3"
                          },
                          "line": {
                            "color": "white"
                          }
                        },
                        "type": "table"
                      }
                    ]
                  },
                  "layout": {
                    "annotationdefaults": {
                      "arrowcolor": "#2a3f5f",
                      "arrowhead": 0,
                      "arrowwidth": 1
                    },
                    "autotypenumbers": "strict",
                    "coloraxis": {
                      "colorbar": {
                        "outlinewidth": 0,
                        "ticks": ""
                      }
                    },
                    "colorscale": {
                      "diverging": [
                        [
                          0,
                          "#8e0152"
                        ],
                        [
                          0.1,
                          "#c51b7d"
                        ],
                        [
                          0.2,
                          "#de77ae"
                        ],
                        [
                          0.3,
                          "#f1b6da"
                        ],
                        [
                          0.4,
                          "#fde0ef"
                        ],
                        [
                          0.5,
                          "#f7f7f7"
                        ],
                        [
                          0.6,
                          "#e6f5d0"
                        ],
                        [
                          0.7,
                          "#b8e186"
                        ],
                        [
                          0.8,
                          "#7fbc41"
                        ],
                        [
                          0.9,
                          "#4d9221"
                        ],
                        [
                          1,
                          "#276419"
                        ]
                      ],
                      "sequential": [
                        [
                          0,
                          "#0d0887"
                        ],
                        [
                          0.1111111111111111,
                          "#46039f"
                        ],
                        [
                          0.2222222222222222,
                          "#7201a8"
                        ],
                        [
                          0.3333333333333333,
                          "#9c179e"
                        ],
                        [
                          0.4444444444444444,
                          "#bd3786"
                        ],
                        [
                          0.5555555555555556,
                          "#d8576b"
                        ],
                        [
                          0.6666666666666666,
                          "#ed7953"
                        ],
                        [
                          0.7777777777777778,
                          "#fb9f3a"
                        ],
                        [
                          0.8888888888888888,
                          "#fdca26"
                        ],
                        [
                          1,
                          "#f0f921"
                        ]
                      ],
                      "sequentialminus": [
                        [
                          0,
                          "#0d0887"
                        ],
                        [
                          0.1111111111111111,
                          "#46039f"
                        ],
                        [
                          0.2222222222222222,
                          "#7201a8"
                        ],
                        [
                          0.3333333333333333,
                          "#9c179e"
                        ],
                        [
                          0.4444444444444444,
                          "#bd3786"
                        ],
                        [
                          0.5555555555555556,
                          "#d8576b"
                        ],
                        [
                          0.6666666666666666,
                          "#ed7953"
                        ],
                        [
                          0.7777777777777778,
                          "#fb9f3a"
                        ],
                        [
                          0.8888888888888888,
                          "#fdca26"
                        ],
                        [
                          1,
                          "#f0f921"
                        ]
                      ]
                    },
                    "colorway": [
                      "#636efa",
                      "#EF553B",
                      "#00cc96",
                      "#ab63fa",
                      "#FFA15A",
                      "#19d3f3",
                      "#FF6692",
                      "#B6E880",
                      "#FF97FF",
                      "#FECB52"
                    ],
                    "font": {
                      "color": "#2a3f5f"
                    },
                    "geo": {
                      "bgcolor": "white",
                      "lakecolor": "white",
                      "landcolor": "#E5ECF6",
                      "showlakes": true,
                      "showland": true,
                      "subunitcolor": "white"
                    },
                    "hoverlabel": {
                      "align": "left"
                    },
                    "hovermode": "closest",
                    "mapbox": {
                      "style": "light"
                    },
                    "paper_bgcolor": "white",
                    "plot_bgcolor": "#E5ECF6",
                    "polar": {
                      "angularaxis": {
                        "gridcolor": "white",
                        "linecolor": "white",
                        "ticks": ""
                      },
                      "bgcolor": "#E5ECF6",
                      "radialaxis": {
                        "gridcolor": "white",
                        "linecolor": "white",
                        "ticks": ""
                      }
                    },
                    "scene": {
                      "xaxis": {
                        "backgroundcolor": "#E5ECF6",
                        "gridcolor": "white",
                        "gridwidth": 2,
                        "linecolor": "white",
                        "showbackground": true,
                        "ticks": "",
                        "zerolinecolor": "white"
                      },
                      "yaxis": {
                        "backgroundcolor": "#E5ECF6",
                        "gridcolor": "white",
                        "gridwidth": 2,
                        "linecolor": "white",
                        "showbackground": true,
                        "ticks": "",
                        "zerolinecolor": "white"
                      },
                      "zaxis": {
                        "backgroundcolor": "#E5ECF6",
                        "gridcolor": "white",
                        "gridwidth": 2,
                        "linecolor": "white",
                        "showbackground": true,
                        "ticks": "",
                        "zerolinecolor": "white"
                      }
                    },
                    "shapedefaults": {
                      "line": {
                        "color": "#2a3f5f"
                      }
                    },
                    "ternary": {
                      "aaxis": {
                        "gridcolor": "white",
                        "linecolor": "white",
                        "ticks": ""
                      },
                      "baxis": {
                        "gridcolor": "white",
                        "linecolor": "white",
                        "ticks": ""
                      },
                      "bgcolor": "#E5ECF6",
                      "caxis": {
                        "gridcolor": "white",
                        "linecolor": "white",
                        "ticks": ""
                      }
                    },
                    "title": {
                      "x": 0.05
                    },
                    "xaxis": {
                      "automargin": true,
                      "gridcolor": "white",
                      "linecolor": "white",
                      "ticks": "",
                      "title": {
                        "standoff": 15
                      },
                      "zerolinecolor": "white",
                      "zerolinewidth": 2
                    },
                    "yaxis": {
                      "automargin": true,
                      "gridcolor": "white",
                      "linecolor": "white",
                      "ticks": "",
                      "title": {
                        "standoff": 15
                      },
                      "zerolinecolor": "white",
                      "zerolinewidth": 2
                    }
                  }
                },
                "title": {
                  "text": "Total de Suicídios - Continentes vs Brasil"
                },
                "width": 1000,
                "xaxis": {
                  "anchor": "y",
                  "domain": [
                    0,
                    1
                  ],
                  "tickangle": 0,
                  "title": {
                    "text": ""
                  }
                },
                "yaxis": {
                  "anchor": "x",
                  "domain": [
                    0,
                    1
                  ],
                  "title": {
                    "text": "SuicideCount"
                  },
                  "visible": false
                }
              }
            }
          },
          "metadata": {},
          "output_type": "display_data"
        }
      ],
      "source": [
        "\n",
        "# Função para formatar os valores em K ou M\n",
        "def format_values(value):\n",
        "    if value >= 1_000_000:\n",
        "        return f'{value / 1_000_000:.2f}M'  # Formatar em M com duas casas decimais\n",
        "    elif value >= 1_000:\n",
        "        return f'{value / 1_000:.0f}K'  # Formatar em K sem casas decimais\n",
        "    else:\n",
        "        return f'{value:.0f}'  # Manter valores pequenos sem formatação\n",
        "\n",
        "# Agrupar os dados e somar o número total de suicídios por continente\n",
        "suicidios_continente = df.groupby('RegionName')['SuicideCount'].sum().reset_index()\n",
        "\n",
        "# Filtrar e somar os dados do Brasil\n",
        "suicidios_brasil = df[df['CountryName'] == 'Brazil'].groupby('CountryName')['SuicideCount'].sum().reset_index()\n",
        "\n",
        "# Renomear a coluna 'CountryName' para 'RegionName' no Brasil para manter a consistência\n",
        "suicidios_brasil.rename(columns={'CountryName': 'RegionName'}, inplace=True)\n",
        "\n",
        "# Combinar os dados do Brasil com os dados dos continentes\n",
        "dados_combinados = pd.concat([suicidios_continente, suicidios_brasil])\n",
        "\n",
        "# Aplicar a formatação dos valores\n",
        "dados_combinados['formatted_values'] = dados_combinados['SuicideCount'].apply(format_values)\n",
        "\n",
        "# Modificar os rótulos dos continentes\n",
        "nome_continentes = {\n",
        "    'Africa': 'África',\n",
        "    'Asia': 'Ásia',\n",
        "    'Central and South America': 'Centro Sul América',\n",
        "    'Europe': 'Europa',\n",
        "    'North America and the Caribbean': 'Norte América',\n",
        "    'Oceania': 'Oceânia',\n",
        "    'Brazil': 'Brasil'\n",
        "}\n",
        "dados_combinados['RegionName'] = dados_combinados['RegionName'].map(nome_continentes)\n",
        "\n",
        "# Ordenar os dados em ordem crescente pelos maiores valores de suicídios\n",
        "dados_combinados = dados_combinados.sort_values(by='SuicideCount', ascending=False)\n",
        "\n",
        "# Criar o gráfico de barras comparativo\n",
        "fig = px.bar(dados_combinados, x='RegionName', y='SuicideCount',\n",
        "             title='Total de Suicídios - Continentes vs Brasil')\n",
        "\n",
        "# Atualizar o layout:\n",
        "fig.update_layout(xaxis_title='', yaxis_visible=False, showlegend=False,\n",
        "                  height=600, width=1000)\n",
        "\n",
        "# Adicionar os valores formatados do eixo Y diretamente nas barras\n",
        "fig.update_traces(texttemplate='%{customdata}', textposition='outside',\n",
        "                  customdata=dados_combinados['formatted_values'])\n",
        "\n",
        "# Ajustar o espaçamento das barras para que os dados apareçam corretamente\n",
        "fig.update_layout(bargap=0.2, bargroupgap=0.1)\n",
        "\n",
        "# Ajustar a rotação dos rótulos do eixo X\n",
        "fig.update_layout(xaxis_tickangle=0)  # Rótulos do eixo X alinhados horizontalmente\n",
        "\n",
        "# Exibir o gráfico\n",
        "fig.show()\n",
        "\n"
      ]
    },
    {
      "cell_type": "code",
      "execution_count": 117,
      "metadata": {},
      "outputs": [
        {
          "data": {
            "application/vnd.plotly.v1+json": {
              "config": {
                "plotlyServerURL": "https://plot.ly"
              },
              "data": [
                {
                  "alignmentgroup": "True",
                  "customdata": [
                    "123",
                    "98",
                    "83",
                    "72",
                    "54",
                    "42",
                    "39",
                    "14",
                    "13",
                    "12"
                  ],
                  "hovertemplate": "CountryName=%{x}<br>SuicideCount=%{y}<extra></extra>",
                  "legendgroup": "",
                  "marker": {
                    "color": "#636efa",
                    "pattern": {
                      "shape": ""
                    }
                  },
                  "name": "",
                  "offsetgroup": "",
                  "orientation": "v",
                  "showlegend": false,
                  "textposition": "outside",
                  "texttemplate": "%{customdata}",
                  "type": "bar",
                  "x": [
                    "Saint Vincent and the Grenadines",
                    "Bahamas",
                    "Lebanon",
                    "Oman",
                    "Dominica",
                    "Cabo Verde",
                    "Maldives",
                    "Saint Kitts and Nevis",
                    "Antigua and Barbuda",
                    "Mayotte"
                  ],
                  "xaxis": "x",
                  "y": [
                    123,
                    98,
                    83,
                    72,
                    54,
                    42,
                    39,
                    14,
                    13,
                    12
                  ],
                  "yaxis": "y"
                }
              ],
              "layout": {
                "bargap": 0.2,
                "bargroupgap": 0.1,
                "barmode": "relative",
                "height": 600,
                "legend": {
                  "tracegroupgap": 0
                },
                "showlegend": false,
                "template": {
                  "data": {
                    "bar": [
                      {
                        "error_x": {
                          "color": "#2a3f5f"
                        },
                        "error_y": {
                          "color": "#2a3f5f"
                        },
                        "marker": {
                          "line": {
                            "color": "#E5ECF6",
                            "width": 0.5
                          },
                          "pattern": {
                            "fillmode": "overlay",
                            "size": 10,
                            "solidity": 0.2
                          }
                        },
                        "type": "bar"
                      }
                    ],
                    "barpolar": [
                      {
                        "marker": {
                          "line": {
                            "color": "#E5ECF6",
                            "width": 0.5
                          },
                          "pattern": {
                            "fillmode": "overlay",
                            "size": 10,
                            "solidity": 0.2
                          }
                        },
                        "type": "barpolar"
                      }
                    ],
                    "carpet": [
                      {
                        "aaxis": {
                          "endlinecolor": "#2a3f5f",
                          "gridcolor": "white",
                          "linecolor": "white",
                          "minorgridcolor": "white",
                          "startlinecolor": "#2a3f5f"
                        },
                        "baxis": {
                          "endlinecolor": "#2a3f5f",
                          "gridcolor": "white",
                          "linecolor": "white",
                          "minorgridcolor": "white",
                          "startlinecolor": "#2a3f5f"
                        },
                        "type": "carpet"
                      }
                    ],
                    "choropleth": [
                      {
                        "colorbar": {
                          "outlinewidth": 0,
                          "ticks": ""
                        },
                        "type": "choropleth"
                      }
                    ],
                    "contour": [
                      {
                        "colorbar": {
                          "outlinewidth": 0,
                          "ticks": ""
                        },
                        "colorscale": [
                          [
                            0,
                            "#0d0887"
                          ],
                          [
                            0.1111111111111111,
                            "#46039f"
                          ],
                          [
                            0.2222222222222222,
                            "#7201a8"
                          ],
                          [
                            0.3333333333333333,
                            "#9c179e"
                          ],
                          [
                            0.4444444444444444,
                            "#bd3786"
                          ],
                          [
                            0.5555555555555556,
                            "#d8576b"
                          ],
                          [
                            0.6666666666666666,
                            "#ed7953"
                          ],
                          [
                            0.7777777777777778,
                            "#fb9f3a"
                          ],
                          [
                            0.8888888888888888,
                            "#fdca26"
                          ],
                          [
                            1,
                            "#f0f921"
                          ]
                        ],
                        "type": "contour"
                      }
                    ],
                    "contourcarpet": [
                      {
                        "colorbar": {
                          "outlinewidth": 0,
                          "ticks": ""
                        },
                        "type": "contourcarpet"
                      }
                    ],
                    "heatmap": [
                      {
                        "colorbar": {
                          "outlinewidth": 0,
                          "ticks": ""
                        },
                        "colorscale": [
                          [
                            0,
                            "#0d0887"
                          ],
                          [
                            0.1111111111111111,
                            "#46039f"
                          ],
                          [
                            0.2222222222222222,
                            "#7201a8"
                          ],
                          [
                            0.3333333333333333,
                            "#9c179e"
                          ],
                          [
                            0.4444444444444444,
                            "#bd3786"
                          ],
                          [
                            0.5555555555555556,
                            "#d8576b"
                          ],
                          [
                            0.6666666666666666,
                            "#ed7953"
                          ],
                          [
                            0.7777777777777778,
                            "#fb9f3a"
                          ],
                          [
                            0.8888888888888888,
                            "#fdca26"
                          ],
                          [
                            1,
                            "#f0f921"
                          ]
                        ],
                        "type": "heatmap"
                      }
                    ],
                    "heatmapgl": [
                      {
                        "colorbar": {
                          "outlinewidth": 0,
                          "ticks": ""
                        },
                        "colorscale": [
                          [
                            0,
                            "#0d0887"
                          ],
                          [
                            0.1111111111111111,
                            "#46039f"
                          ],
                          [
                            0.2222222222222222,
                            "#7201a8"
                          ],
                          [
                            0.3333333333333333,
                            "#9c179e"
                          ],
                          [
                            0.4444444444444444,
                            "#bd3786"
                          ],
                          [
                            0.5555555555555556,
                            "#d8576b"
                          ],
                          [
                            0.6666666666666666,
                            "#ed7953"
                          ],
                          [
                            0.7777777777777778,
                            "#fb9f3a"
                          ],
                          [
                            0.8888888888888888,
                            "#fdca26"
                          ],
                          [
                            1,
                            "#f0f921"
                          ]
                        ],
                        "type": "heatmapgl"
                      }
                    ],
                    "histogram": [
                      {
                        "marker": {
                          "pattern": {
                            "fillmode": "overlay",
                            "size": 10,
                            "solidity": 0.2
                          }
                        },
                        "type": "histogram"
                      }
                    ],
                    "histogram2d": [
                      {
                        "colorbar": {
                          "outlinewidth": 0,
                          "ticks": ""
                        },
                        "colorscale": [
                          [
                            0,
                            "#0d0887"
                          ],
                          [
                            0.1111111111111111,
                            "#46039f"
                          ],
                          [
                            0.2222222222222222,
                            "#7201a8"
                          ],
                          [
                            0.3333333333333333,
                            "#9c179e"
                          ],
                          [
                            0.4444444444444444,
                            "#bd3786"
                          ],
                          [
                            0.5555555555555556,
                            "#d8576b"
                          ],
                          [
                            0.6666666666666666,
                            "#ed7953"
                          ],
                          [
                            0.7777777777777778,
                            "#fb9f3a"
                          ],
                          [
                            0.8888888888888888,
                            "#fdca26"
                          ],
                          [
                            1,
                            "#f0f921"
                          ]
                        ],
                        "type": "histogram2d"
                      }
                    ],
                    "histogram2dcontour": [
                      {
                        "colorbar": {
                          "outlinewidth": 0,
                          "ticks": ""
                        },
                        "colorscale": [
                          [
                            0,
                            "#0d0887"
                          ],
                          [
                            0.1111111111111111,
                            "#46039f"
                          ],
                          [
                            0.2222222222222222,
                            "#7201a8"
                          ],
                          [
                            0.3333333333333333,
                            "#9c179e"
                          ],
                          [
                            0.4444444444444444,
                            "#bd3786"
                          ],
                          [
                            0.5555555555555556,
                            "#d8576b"
                          ],
                          [
                            0.6666666666666666,
                            "#ed7953"
                          ],
                          [
                            0.7777777777777778,
                            "#fb9f3a"
                          ],
                          [
                            0.8888888888888888,
                            "#fdca26"
                          ],
                          [
                            1,
                            "#f0f921"
                          ]
                        ],
                        "type": "histogram2dcontour"
                      }
                    ],
                    "mesh3d": [
                      {
                        "colorbar": {
                          "outlinewidth": 0,
                          "ticks": ""
                        },
                        "type": "mesh3d"
                      }
                    ],
                    "parcoords": [
                      {
                        "line": {
                          "colorbar": {
                            "outlinewidth": 0,
                            "ticks": ""
                          }
                        },
                        "type": "parcoords"
                      }
                    ],
                    "pie": [
                      {
                        "automargin": true,
                        "type": "pie"
                      }
                    ],
                    "scatter": [
                      {
                        "fillpattern": {
                          "fillmode": "overlay",
                          "size": 10,
                          "solidity": 0.2
                        },
                        "type": "scatter"
                      }
                    ],
                    "scatter3d": [
                      {
                        "line": {
                          "colorbar": {
                            "outlinewidth": 0,
                            "ticks": ""
                          }
                        },
                        "marker": {
                          "colorbar": {
                            "outlinewidth": 0,
                            "ticks": ""
                          }
                        },
                        "type": "scatter3d"
                      }
                    ],
                    "scattercarpet": [
                      {
                        "marker": {
                          "colorbar": {
                            "outlinewidth": 0,
                            "ticks": ""
                          }
                        },
                        "type": "scattercarpet"
                      }
                    ],
                    "scattergeo": [
                      {
                        "marker": {
                          "colorbar": {
                            "outlinewidth": 0,
                            "ticks": ""
                          }
                        },
                        "type": "scattergeo"
                      }
                    ],
                    "scattergl": [
                      {
                        "marker": {
                          "colorbar": {
                            "outlinewidth": 0,
                            "ticks": ""
                          }
                        },
                        "type": "scattergl"
                      }
                    ],
                    "scattermapbox": [
                      {
                        "marker": {
                          "colorbar": {
                            "outlinewidth": 0,
                            "ticks": ""
                          }
                        },
                        "type": "scattermapbox"
                      }
                    ],
                    "scatterpolar": [
                      {
                        "marker": {
                          "colorbar": {
                            "outlinewidth": 0,
                            "ticks": ""
                          }
                        },
                        "type": "scatterpolar"
                      }
                    ],
                    "scatterpolargl": [
                      {
                        "marker": {
                          "colorbar": {
                            "outlinewidth": 0,
                            "ticks": ""
                          }
                        },
                        "type": "scatterpolargl"
                      }
                    ],
                    "scatterternary": [
                      {
                        "marker": {
                          "colorbar": {
                            "outlinewidth": 0,
                            "ticks": ""
                          }
                        },
                        "type": "scatterternary"
                      }
                    ],
                    "surface": [
                      {
                        "colorbar": {
                          "outlinewidth": 0,
                          "ticks": ""
                        },
                        "colorscale": [
                          [
                            0,
                            "#0d0887"
                          ],
                          [
                            0.1111111111111111,
                            "#46039f"
                          ],
                          [
                            0.2222222222222222,
                            "#7201a8"
                          ],
                          [
                            0.3333333333333333,
                            "#9c179e"
                          ],
                          [
                            0.4444444444444444,
                            "#bd3786"
                          ],
                          [
                            0.5555555555555556,
                            "#d8576b"
                          ],
                          [
                            0.6666666666666666,
                            "#ed7953"
                          ],
                          [
                            0.7777777777777778,
                            "#fb9f3a"
                          ],
                          [
                            0.8888888888888888,
                            "#fdca26"
                          ],
                          [
                            1,
                            "#f0f921"
                          ]
                        ],
                        "type": "surface"
                      }
                    ],
                    "table": [
                      {
                        "cells": {
                          "fill": {
                            "color": "#EBF0F8"
                          },
                          "line": {
                            "color": "white"
                          }
                        },
                        "header": {
                          "fill": {
                            "color": "#C8D4E3"
                          },
                          "line": {
                            "color": "white"
                          }
                        },
                        "type": "table"
                      }
                    ]
                  },
                  "layout": {
                    "annotationdefaults": {
                      "arrowcolor": "#2a3f5f",
                      "arrowhead": 0,
                      "arrowwidth": 1
                    },
                    "autotypenumbers": "strict",
                    "coloraxis": {
                      "colorbar": {
                        "outlinewidth": 0,
                        "ticks": ""
                      }
                    },
                    "colorscale": {
                      "diverging": [
                        [
                          0,
                          "#8e0152"
                        ],
                        [
                          0.1,
                          "#c51b7d"
                        ],
                        [
                          0.2,
                          "#de77ae"
                        ],
                        [
                          0.3,
                          "#f1b6da"
                        ],
                        [
                          0.4,
                          "#fde0ef"
                        ],
                        [
                          0.5,
                          "#f7f7f7"
                        ],
                        [
                          0.6,
                          "#e6f5d0"
                        ],
                        [
                          0.7,
                          "#b8e186"
                        ],
                        [
                          0.8,
                          "#7fbc41"
                        ],
                        [
                          0.9,
                          "#4d9221"
                        ],
                        [
                          1,
                          "#276419"
                        ]
                      ],
                      "sequential": [
                        [
                          0,
                          "#0d0887"
                        ],
                        [
                          0.1111111111111111,
                          "#46039f"
                        ],
                        [
                          0.2222222222222222,
                          "#7201a8"
                        ],
                        [
                          0.3333333333333333,
                          "#9c179e"
                        ],
                        [
                          0.4444444444444444,
                          "#bd3786"
                        ],
                        [
                          0.5555555555555556,
                          "#d8576b"
                        ],
                        [
                          0.6666666666666666,
                          "#ed7953"
                        ],
                        [
                          0.7777777777777778,
                          "#fb9f3a"
                        ],
                        [
                          0.8888888888888888,
                          "#fdca26"
                        ],
                        [
                          1,
                          "#f0f921"
                        ]
                      ],
                      "sequentialminus": [
                        [
                          0,
                          "#0d0887"
                        ],
                        [
                          0.1111111111111111,
                          "#46039f"
                        ],
                        [
                          0.2222222222222222,
                          "#7201a8"
                        ],
                        [
                          0.3333333333333333,
                          "#9c179e"
                        ],
                        [
                          0.4444444444444444,
                          "#bd3786"
                        ],
                        [
                          0.5555555555555556,
                          "#d8576b"
                        ],
                        [
                          0.6666666666666666,
                          "#ed7953"
                        ],
                        [
                          0.7777777777777778,
                          "#fb9f3a"
                        ],
                        [
                          0.8888888888888888,
                          "#fdca26"
                        ],
                        [
                          1,
                          "#f0f921"
                        ]
                      ]
                    },
                    "colorway": [
                      "#636efa",
                      "#EF553B",
                      "#00cc96",
                      "#ab63fa",
                      "#FFA15A",
                      "#19d3f3",
                      "#FF6692",
                      "#B6E880",
                      "#FF97FF",
                      "#FECB52"
                    ],
                    "font": {
                      "color": "#2a3f5f"
                    },
                    "geo": {
                      "bgcolor": "white",
                      "lakecolor": "white",
                      "landcolor": "#E5ECF6",
                      "showlakes": true,
                      "showland": true,
                      "subunitcolor": "white"
                    },
                    "hoverlabel": {
                      "align": "left"
                    },
                    "hovermode": "closest",
                    "mapbox": {
                      "style": "light"
                    },
                    "paper_bgcolor": "white",
                    "plot_bgcolor": "#E5ECF6",
                    "polar": {
                      "angularaxis": {
                        "gridcolor": "white",
                        "linecolor": "white",
                        "ticks": ""
                      },
                      "bgcolor": "#E5ECF6",
                      "radialaxis": {
                        "gridcolor": "white",
                        "linecolor": "white",
                        "ticks": ""
                      }
                    },
                    "scene": {
                      "xaxis": {
                        "backgroundcolor": "#E5ECF6",
                        "gridcolor": "white",
                        "gridwidth": 2,
                        "linecolor": "white",
                        "showbackground": true,
                        "ticks": "",
                        "zerolinecolor": "white"
                      },
                      "yaxis": {
                        "backgroundcolor": "#E5ECF6",
                        "gridcolor": "white",
                        "gridwidth": 2,
                        "linecolor": "white",
                        "showbackground": true,
                        "ticks": "",
                        "zerolinecolor": "white"
                      },
                      "zaxis": {
                        "backgroundcolor": "#E5ECF6",
                        "gridcolor": "white",
                        "gridwidth": 2,
                        "linecolor": "white",
                        "showbackground": true,
                        "ticks": "",
                        "zerolinecolor": "white"
                      }
                    },
                    "shapedefaults": {
                      "line": {
                        "color": "#2a3f5f"
                      }
                    },
                    "ternary": {
                      "aaxis": {
                        "gridcolor": "white",
                        "linecolor": "white",
                        "ticks": ""
                      },
                      "baxis": {
                        "gridcolor": "white",
                        "linecolor": "white",
                        "ticks": ""
                      },
                      "bgcolor": "#E5ECF6",
                      "caxis": {
                        "gridcolor": "white",
                        "linecolor": "white",
                        "ticks": ""
                      }
                    },
                    "title": {
                      "x": 0.05
                    },
                    "xaxis": {
                      "automargin": true,
                      "gridcolor": "white",
                      "linecolor": "white",
                      "ticks": "",
                      "title": {
                        "standoff": 15
                      },
                      "zerolinecolor": "white",
                      "zerolinewidth": 2
                    },
                    "yaxis": {
                      "automargin": true,
                      "gridcolor": "white",
                      "linecolor": "white",
                      "ticks": "",
                      "title": {
                        "standoff": 15
                      },
                      "zerolinecolor": "white",
                      "zerolinewidth": 2
                    }
                  }
                },
                "title": {
                  "text": "Top 10 Países com menor Índice de Suicídios"
                },
                "width": 1000,
                "xaxis": {
                  "anchor": "y",
                  "domain": [
                    0,
                    1
                  ],
                  "title": {
                    "text": ""
                  }
                },
                "yaxis": {
                  "anchor": "x",
                  "domain": [
                    0,
                    1
                  ],
                  "title": {
                    "text": "SuicideCount"
                  },
                  "visible": false
                }
              }
            }
          },
          "metadata": {},
          "output_type": "display_data"
        }
      ],
      "source": [
        "# Agrupar os dados por país e somar o número total de suicídios\n",
        "grouped_data_countries = dados_ajustados.groupby('CountryName')['SuicideCount'].sum().reset_index()\n",
        "\n",
        "# Ordenar os países pelo número total de suicídios em ordem decrescente e pegar os 10 primeiros\n",
        "top_10_countries = grouped_data_countries.sort_values(by='SuicideCount', ascending=False).tail(10)\n",
        "\n",
        "# Função para formatar os valores em K ou M com 3 casas decimais\n",
        "def format_values(value):\n",
        "    if value >= 1_000_000:\n",
        "        return f'{value / 1_000_000:.3f}M'  # Formatar em M com três casas decimais\n",
        "    elif value >= 1_000:\n",
        "        return f'{value / 1_000:.3f}K'  # Formatar em K com três casas decimais\n",
        "    else:\n",
        "        return f'{value:.0f}'  # Manter valores pequenos sem formatação\n",
        "\n",
        "# Aplicar a formatação dos valores\n",
        "top_10_countries['formatted_values'] = top_10_countries['SuicideCount'].apply(format_values)\n",
        "\n",
        "# Criar o gráfico de barras para os 10 países com maior índice de suicídios\n",
        "fig = px.bar(top_10_countries, x='CountryName', y='SuicideCount',\n",
        "             title='Top 10 Países com menor Índice de Suicídios')\n",
        "\n",
        "# Atualizar o layout:\n",
        "# - Remover a legenda do eixo X\n",
        "# - Ajustar o tamanho do gráfico\n",
        "fig.update_layout(xaxis_title='', yaxis_visible=False, showlegend=False,\n",
        "                  height=600, width=1000)  # Ajustar o tamanho do gráfico\n",
        "\n",
        "# Adicionar os valores formatados do eixo Y diretamente nas barras\n",
        "fig.update_traces(texttemplate='%{customdata}', textposition='outside',\n",
        "                  customdata=top_10_countries['formatted_values'])\n",
        "\n",
        "# Ajustar o espaçamento das barras para que os dados apareçam corretamente\n",
        "fig.update_layout(bargap=0.2, bargroupgap=0.1)\n",
        "\n",
        "# Exibir o gráfico\n",
        "fig.show()\n"
      ]
    },
    {
      "cell_type": "code",
      "execution_count": 118,
      "metadata": {},
      "outputs": [
        {
          "data": {
            "application/vnd.plotly.v1+json": {
              "config": {
                "plotlyServerURL": "https://plot.ly"
              },
              "data": [
                {
                  "alignmentgroup": "True",
                  "customdata": [
                    "36.7",
                    "32.9",
                    "31.1",
                    "30.5",
                    "28.9",
                    "28.7",
                    "28.4",
                    "26.7",
                    "26.5",
                    "26.5"
                  ],
                  "hovertemplate": "CountryName=%{x}<br>DeathRatePer100K=%{y}<extra></extra>",
                  "legendgroup": "",
                  "marker": {
                    "color": "#636efa",
                    "pattern": {
                      "shape": ""
                    }
                  },
                  "name": "",
                  "offsetgroup": "",
                  "orientation": "v",
                  "showlegend": false,
                  "textposition": "outside",
                  "texttemplate": "%{customdata}",
                  "type": "bar",
                  "x": [
                    "Lithuania",
                    "Hungary",
                    "Russian Federation",
                    "Belarus",
                    "Latvia",
                    "Republic of Korea",
                    "Slovenia",
                    "Estonia",
                    "Sri Lanka",
                    "Kazakhstan"
                  ],
                  "xaxis": "x",
                  "y": [
                    36.74896288892476,
                    32.89244599157701,
                    31.06516542148158,
                    30.544658221814917,
                    28.896344831111787,
                    28.697976941940215,
                    28.4168900624883,
                    26.658719646636882,
                    26.5316036506279,
                    26.48274523576804
                  ],
                  "yaxis": "y"
                }
              ],
              "layout": {
                "bargap": 0.2,
                "bargroupgap": 0.1,
                "barmode": "relative",
                "height": 600,
                "legend": {
                  "tracegroupgap": 0
                },
                "showlegend": false,
                "template": {
                  "data": {
                    "bar": [
                      {
                        "error_x": {
                          "color": "#2a3f5f"
                        },
                        "error_y": {
                          "color": "#2a3f5f"
                        },
                        "marker": {
                          "line": {
                            "color": "#E5ECF6",
                            "width": 0.5
                          },
                          "pattern": {
                            "fillmode": "overlay",
                            "size": 10,
                            "solidity": 0.2
                          }
                        },
                        "type": "bar"
                      }
                    ],
                    "barpolar": [
                      {
                        "marker": {
                          "line": {
                            "color": "#E5ECF6",
                            "width": 0.5
                          },
                          "pattern": {
                            "fillmode": "overlay",
                            "size": 10,
                            "solidity": 0.2
                          }
                        },
                        "type": "barpolar"
                      }
                    ],
                    "carpet": [
                      {
                        "aaxis": {
                          "endlinecolor": "#2a3f5f",
                          "gridcolor": "white",
                          "linecolor": "white",
                          "minorgridcolor": "white",
                          "startlinecolor": "#2a3f5f"
                        },
                        "baxis": {
                          "endlinecolor": "#2a3f5f",
                          "gridcolor": "white",
                          "linecolor": "white",
                          "minorgridcolor": "white",
                          "startlinecolor": "#2a3f5f"
                        },
                        "type": "carpet"
                      }
                    ],
                    "choropleth": [
                      {
                        "colorbar": {
                          "outlinewidth": 0,
                          "ticks": ""
                        },
                        "type": "choropleth"
                      }
                    ],
                    "contour": [
                      {
                        "colorbar": {
                          "outlinewidth": 0,
                          "ticks": ""
                        },
                        "colorscale": [
                          [
                            0,
                            "#0d0887"
                          ],
                          [
                            0.1111111111111111,
                            "#46039f"
                          ],
                          [
                            0.2222222222222222,
                            "#7201a8"
                          ],
                          [
                            0.3333333333333333,
                            "#9c179e"
                          ],
                          [
                            0.4444444444444444,
                            "#bd3786"
                          ],
                          [
                            0.5555555555555556,
                            "#d8576b"
                          ],
                          [
                            0.6666666666666666,
                            "#ed7953"
                          ],
                          [
                            0.7777777777777778,
                            "#fb9f3a"
                          ],
                          [
                            0.8888888888888888,
                            "#fdca26"
                          ],
                          [
                            1,
                            "#f0f921"
                          ]
                        ],
                        "type": "contour"
                      }
                    ],
                    "contourcarpet": [
                      {
                        "colorbar": {
                          "outlinewidth": 0,
                          "ticks": ""
                        },
                        "type": "contourcarpet"
                      }
                    ],
                    "heatmap": [
                      {
                        "colorbar": {
                          "outlinewidth": 0,
                          "ticks": ""
                        },
                        "colorscale": [
                          [
                            0,
                            "#0d0887"
                          ],
                          [
                            0.1111111111111111,
                            "#46039f"
                          ],
                          [
                            0.2222222222222222,
                            "#7201a8"
                          ],
                          [
                            0.3333333333333333,
                            "#9c179e"
                          ],
                          [
                            0.4444444444444444,
                            "#bd3786"
                          ],
                          [
                            0.5555555555555556,
                            "#d8576b"
                          ],
                          [
                            0.6666666666666666,
                            "#ed7953"
                          ],
                          [
                            0.7777777777777778,
                            "#fb9f3a"
                          ],
                          [
                            0.8888888888888888,
                            "#fdca26"
                          ],
                          [
                            1,
                            "#f0f921"
                          ]
                        ],
                        "type": "heatmap"
                      }
                    ],
                    "heatmapgl": [
                      {
                        "colorbar": {
                          "outlinewidth": 0,
                          "ticks": ""
                        },
                        "colorscale": [
                          [
                            0,
                            "#0d0887"
                          ],
                          [
                            0.1111111111111111,
                            "#46039f"
                          ],
                          [
                            0.2222222222222222,
                            "#7201a8"
                          ],
                          [
                            0.3333333333333333,
                            "#9c179e"
                          ],
                          [
                            0.4444444444444444,
                            "#bd3786"
                          ],
                          [
                            0.5555555555555556,
                            "#d8576b"
                          ],
                          [
                            0.6666666666666666,
                            "#ed7953"
                          ],
                          [
                            0.7777777777777778,
                            "#fb9f3a"
                          ],
                          [
                            0.8888888888888888,
                            "#fdca26"
                          ],
                          [
                            1,
                            "#f0f921"
                          ]
                        ],
                        "type": "heatmapgl"
                      }
                    ],
                    "histogram": [
                      {
                        "marker": {
                          "pattern": {
                            "fillmode": "overlay",
                            "size": 10,
                            "solidity": 0.2
                          }
                        },
                        "type": "histogram"
                      }
                    ],
                    "histogram2d": [
                      {
                        "colorbar": {
                          "outlinewidth": 0,
                          "ticks": ""
                        },
                        "colorscale": [
                          [
                            0,
                            "#0d0887"
                          ],
                          [
                            0.1111111111111111,
                            "#46039f"
                          ],
                          [
                            0.2222222222222222,
                            "#7201a8"
                          ],
                          [
                            0.3333333333333333,
                            "#9c179e"
                          ],
                          [
                            0.4444444444444444,
                            "#bd3786"
                          ],
                          [
                            0.5555555555555556,
                            "#d8576b"
                          ],
                          [
                            0.6666666666666666,
                            "#ed7953"
                          ],
                          [
                            0.7777777777777778,
                            "#fb9f3a"
                          ],
                          [
                            0.8888888888888888,
                            "#fdca26"
                          ],
                          [
                            1,
                            "#f0f921"
                          ]
                        ],
                        "type": "histogram2d"
                      }
                    ],
                    "histogram2dcontour": [
                      {
                        "colorbar": {
                          "outlinewidth": 0,
                          "ticks": ""
                        },
                        "colorscale": [
                          [
                            0,
                            "#0d0887"
                          ],
                          [
                            0.1111111111111111,
                            "#46039f"
                          ],
                          [
                            0.2222222222222222,
                            "#7201a8"
                          ],
                          [
                            0.3333333333333333,
                            "#9c179e"
                          ],
                          [
                            0.4444444444444444,
                            "#bd3786"
                          ],
                          [
                            0.5555555555555556,
                            "#d8576b"
                          ],
                          [
                            0.6666666666666666,
                            "#ed7953"
                          ],
                          [
                            0.7777777777777778,
                            "#fb9f3a"
                          ],
                          [
                            0.8888888888888888,
                            "#fdca26"
                          ],
                          [
                            1,
                            "#f0f921"
                          ]
                        ],
                        "type": "histogram2dcontour"
                      }
                    ],
                    "mesh3d": [
                      {
                        "colorbar": {
                          "outlinewidth": 0,
                          "ticks": ""
                        },
                        "type": "mesh3d"
                      }
                    ],
                    "parcoords": [
                      {
                        "line": {
                          "colorbar": {
                            "outlinewidth": 0,
                            "ticks": ""
                          }
                        },
                        "type": "parcoords"
                      }
                    ],
                    "pie": [
                      {
                        "automargin": true,
                        "type": "pie"
                      }
                    ],
                    "scatter": [
                      {
                        "fillpattern": {
                          "fillmode": "overlay",
                          "size": 10,
                          "solidity": 0.2
                        },
                        "type": "scatter"
                      }
                    ],
                    "scatter3d": [
                      {
                        "line": {
                          "colorbar": {
                            "outlinewidth": 0,
                            "ticks": ""
                          }
                        },
                        "marker": {
                          "colorbar": {
                            "outlinewidth": 0,
                            "ticks": ""
                          }
                        },
                        "type": "scatter3d"
                      }
                    ],
                    "scattercarpet": [
                      {
                        "marker": {
                          "colorbar": {
                            "outlinewidth": 0,
                            "ticks": ""
                          }
                        },
                        "type": "scattercarpet"
                      }
                    ],
                    "scattergeo": [
                      {
                        "marker": {
                          "colorbar": {
                            "outlinewidth": 0,
                            "ticks": ""
                          }
                        },
                        "type": "scattergeo"
                      }
                    ],
                    "scattergl": [
                      {
                        "marker": {
                          "colorbar": {
                            "outlinewidth": 0,
                            "ticks": ""
                          }
                        },
                        "type": "scattergl"
                      }
                    ],
                    "scattermapbox": [
                      {
                        "marker": {
                          "colorbar": {
                            "outlinewidth": 0,
                            "ticks": ""
                          }
                        },
                        "type": "scattermapbox"
                      }
                    ],
                    "scatterpolar": [
                      {
                        "marker": {
                          "colorbar": {
                            "outlinewidth": 0,
                            "ticks": ""
                          }
                        },
                        "type": "scatterpolar"
                      }
                    ],
                    "scatterpolargl": [
                      {
                        "marker": {
                          "colorbar": {
                            "outlinewidth": 0,
                            "ticks": ""
                          }
                        },
                        "type": "scatterpolargl"
                      }
                    ],
                    "scatterternary": [
                      {
                        "marker": {
                          "colorbar": {
                            "outlinewidth": 0,
                            "ticks": ""
                          }
                        },
                        "type": "scatterternary"
                      }
                    ],
                    "surface": [
                      {
                        "colorbar": {
                          "outlinewidth": 0,
                          "ticks": ""
                        },
                        "colorscale": [
                          [
                            0,
                            "#0d0887"
                          ],
                          [
                            0.1111111111111111,
                            "#46039f"
                          ],
                          [
                            0.2222222222222222,
                            "#7201a8"
                          ],
                          [
                            0.3333333333333333,
                            "#9c179e"
                          ],
                          [
                            0.4444444444444444,
                            "#bd3786"
                          ],
                          [
                            0.5555555555555556,
                            "#d8576b"
                          ],
                          [
                            0.6666666666666666,
                            "#ed7953"
                          ],
                          [
                            0.7777777777777778,
                            "#fb9f3a"
                          ],
                          [
                            0.8888888888888888,
                            "#fdca26"
                          ],
                          [
                            1,
                            "#f0f921"
                          ]
                        ],
                        "type": "surface"
                      }
                    ],
                    "table": [
                      {
                        "cells": {
                          "fill": {
                            "color": "#EBF0F8"
                          },
                          "line": {
                            "color": "white"
                          }
                        },
                        "header": {
                          "fill": {
                            "color": "#C8D4E3"
                          },
                          "line": {
                            "color": "white"
                          }
                        },
                        "type": "table"
                      }
                    ]
                  },
                  "layout": {
                    "annotationdefaults": {
                      "arrowcolor": "#2a3f5f",
                      "arrowhead": 0,
                      "arrowwidth": 1
                    },
                    "autotypenumbers": "strict",
                    "coloraxis": {
                      "colorbar": {
                        "outlinewidth": 0,
                        "ticks": ""
                      }
                    },
                    "colorscale": {
                      "diverging": [
                        [
                          0,
                          "#8e0152"
                        ],
                        [
                          0.1,
                          "#c51b7d"
                        ],
                        [
                          0.2,
                          "#de77ae"
                        ],
                        [
                          0.3,
                          "#f1b6da"
                        ],
                        [
                          0.4,
                          "#fde0ef"
                        ],
                        [
                          0.5,
                          "#f7f7f7"
                        ],
                        [
                          0.6,
                          "#e6f5d0"
                        ],
                        [
                          0.7,
                          "#b8e186"
                        ],
                        [
                          0.8,
                          "#7fbc41"
                        ],
                        [
                          0.9,
                          "#4d9221"
                        ],
                        [
                          1,
                          "#276419"
                        ]
                      ],
                      "sequential": [
                        [
                          0,
                          "#0d0887"
                        ],
                        [
                          0.1111111111111111,
                          "#46039f"
                        ],
                        [
                          0.2222222222222222,
                          "#7201a8"
                        ],
                        [
                          0.3333333333333333,
                          "#9c179e"
                        ],
                        [
                          0.4444444444444444,
                          "#bd3786"
                        ],
                        [
                          0.5555555555555556,
                          "#d8576b"
                        ],
                        [
                          0.6666666666666666,
                          "#ed7953"
                        ],
                        [
                          0.7777777777777778,
                          "#fb9f3a"
                        ],
                        [
                          0.8888888888888888,
                          "#fdca26"
                        ],
                        [
                          1,
                          "#f0f921"
                        ]
                      ],
                      "sequentialminus": [
                        [
                          0,
                          "#0d0887"
                        ],
                        [
                          0.1111111111111111,
                          "#46039f"
                        ],
                        [
                          0.2222222222222222,
                          "#7201a8"
                        ],
                        [
                          0.3333333333333333,
                          "#9c179e"
                        ],
                        [
                          0.4444444444444444,
                          "#bd3786"
                        ],
                        [
                          0.5555555555555556,
                          "#d8576b"
                        ],
                        [
                          0.6666666666666666,
                          "#ed7953"
                        ],
                        [
                          0.7777777777777778,
                          "#fb9f3a"
                        ],
                        [
                          0.8888888888888888,
                          "#fdca26"
                        ],
                        [
                          1,
                          "#f0f921"
                        ]
                      ]
                    },
                    "colorway": [
                      "#636efa",
                      "#EF553B",
                      "#00cc96",
                      "#ab63fa",
                      "#FFA15A",
                      "#19d3f3",
                      "#FF6692",
                      "#B6E880",
                      "#FF97FF",
                      "#FECB52"
                    ],
                    "font": {
                      "color": "#2a3f5f"
                    },
                    "geo": {
                      "bgcolor": "white",
                      "lakecolor": "white",
                      "landcolor": "#E5ECF6",
                      "showlakes": true,
                      "showland": true,
                      "subunitcolor": "white"
                    },
                    "hoverlabel": {
                      "align": "left"
                    },
                    "hovermode": "closest",
                    "mapbox": {
                      "style": "light"
                    },
                    "paper_bgcolor": "white",
                    "plot_bgcolor": "#E5ECF6",
                    "polar": {
                      "angularaxis": {
                        "gridcolor": "white",
                        "linecolor": "white",
                        "ticks": ""
                      },
                      "bgcolor": "#E5ECF6",
                      "radialaxis": {
                        "gridcolor": "white",
                        "linecolor": "white",
                        "ticks": ""
                      }
                    },
                    "scene": {
                      "xaxis": {
                        "backgroundcolor": "#E5ECF6",
                        "gridcolor": "white",
                        "gridwidth": 2,
                        "linecolor": "white",
                        "showbackground": true,
                        "ticks": "",
                        "zerolinecolor": "white"
                      },
                      "yaxis": {
                        "backgroundcolor": "#E5ECF6",
                        "gridcolor": "white",
                        "gridwidth": 2,
                        "linecolor": "white",
                        "showbackground": true,
                        "ticks": "",
                        "zerolinecolor": "white"
                      },
                      "zaxis": {
                        "backgroundcolor": "#E5ECF6",
                        "gridcolor": "white",
                        "gridwidth": 2,
                        "linecolor": "white",
                        "showbackground": true,
                        "ticks": "",
                        "zerolinecolor": "white"
                      }
                    },
                    "shapedefaults": {
                      "line": {
                        "color": "#2a3f5f"
                      }
                    },
                    "ternary": {
                      "aaxis": {
                        "gridcolor": "white",
                        "linecolor": "white",
                        "ticks": ""
                      },
                      "baxis": {
                        "gridcolor": "white",
                        "linecolor": "white",
                        "ticks": ""
                      },
                      "bgcolor": "#E5ECF6",
                      "caxis": {
                        "gridcolor": "white",
                        "linecolor": "white",
                        "ticks": ""
                      }
                    },
                    "title": {
                      "x": 0.05
                    },
                    "xaxis": {
                      "automargin": true,
                      "gridcolor": "white",
                      "linecolor": "white",
                      "ticks": "",
                      "title": {
                        "standoff": 15
                      },
                      "zerolinecolor": "white",
                      "zerolinewidth": 2
                    },
                    "yaxis": {
                      "automargin": true,
                      "gridcolor": "white",
                      "linecolor": "white",
                      "ticks": "",
                      "title": {
                        "standoff": 15
                      },
                      "zerolinecolor": "white",
                      "zerolinewidth": 2
                    }
                  }
                },
                "title": {
                  "text": "Top 10 Países com Maior Índice de Suicídios por 100k Habitantes"
                },
                "width": 1000,
                "xaxis": {
                  "anchor": "y",
                  "domain": [
                    0,
                    1
                  ],
                  "title": {
                    "text": ""
                  }
                },
                "yaxis": {
                  "anchor": "x",
                  "domain": [
                    0,
                    1
                  ],
                  "title": {
                    "text": "DeathRatePer100K"
                  },
                  "visible": false
                }
              }
            }
          },
          "metadata": {},
          "output_type": "display_data"
        }
      ],
      "source": [
        "# Agrupar os dados por país e calcular a média da taxa de suicídios por 100k habitantes\n",
        "grouped_data_rate = dados_ajustados.groupby('CountryName')['DeathRatePer100K'].mean().reset_index()\n",
        "\n",
        "# Ordenar os países pelo índice de suicídios por 100k habitantes em ordem decrescente e pegar os 10 primeiros\n",
        "top_10_countries_rate = grouped_data_rate.sort_values(by='DeathRatePer100K', ascending=False).head(10)\n",
        "\n",
        "# Função para formatar os valores com uma casa decimal\n",
        "def format_rate(value):\n",
        "    return f'{value:.1f}'  # Formatar com uma casa decimal\n",
        "\n",
        "# Aplicar a formatação dos valores para a taxa de suicídios\n",
        "top_10_countries_rate['formatted_values'] = top_10_countries_rate['DeathRatePer100K'].apply(format_rate)\n",
        "\n",
        "# Criar o gráfico de barras para os 10 países com maior índice de suicídios por 100k habitantes\n",
        "fig = px.bar(top_10_countries_rate, x='CountryName', y='DeathRatePer100K',\n",
        "             title='Top 10 Países com Maior Índice de Suicídios por 100k Habitantes')\n",
        "\n",
        "# Atualizar o layout:\n",
        "#\n",
        "fig.update_layout(xaxis_title='', yaxis_visible=False, showlegend=False,\n",
        "                  height=600, width=1000)  # Ajustar o tamanho do gráfico\n",
        "\n",
        "# Adicionar os valores formatados do eixo Y diretamente nas barras\n",
        "fig.update_traces(texttemplate='%{customdata}', textposition='outside',\n",
        "                  customdata=top_10_countries_rate['formatted_values'])\n",
        "\n",
        "# Ajustar o espaçamento das barras para que os dados apareçam corretamente\n",
        "fig.update_layout(bargap=0.2, bargroupgap=0.1)\n",
        "\n",
        "# Exibir o gráfico\n",
        "fig.show()\n"
      ]
    },
    {
      "cell_type": "markdown",
      "metadata": {},
      "source": [
        "### Taxa Global por Genero "
      ]
    },
    {
      "cell_type": "code",
      "execution_count": 119,
      "metadata": {},
      "outputs": [
        {
          "name": "stdout",
          "output_type": "stream",
          "text": [
            "       Sex  SuicideCount  Percentage\n",
            "0   Female  1.726541e+06       22.89\n",
            "1     Male  5.817335e+06       77.11\n",
            "2  Unknown  3.390000e+02        0.00\n"
          ]
        }
      ],
      "source": [
        "# Agrupar os dados por gênero e somar o número total de suicídios\n",
        "suicides_by_gender = dados_ajustados.groupby('Sex')['SuicideCount'].sum().reset_index()\n",
        "\n",
        "\n",
        "# Calcular o total geral de suicídios\n",
        "total_suicides = suicides_by_gender['SuicideCount'].sum()\n",
        "\n",
        "# Calcular a percentagem de suicídios por gênero\n",
        "suicides_by_gender['Percentage'] = (suicides_by_gender['SuicideCount'] / total_suicides * 100).round(2)\n",
        "\n",
        "# Exibir o total e a percentagem de suicídios por gênero\n",
        "print(suicides_by_gender)\n"
      ]
    },
    {
      "cell_type": "code",
      "execution_count": 120,
      "metadata": {},
      "outputs": [
        {
          "data": {
            "image/png": "[encoded data removed]",
            "text/plain": [
              "<Figure size 1300x600 with 2 Axes>"
            ]
          },
          "metadata": {},
          "output_type": "display_data"
        }
      ],
      "source": [
        "# Definir estilo Seaborn para um design limpo e interface visual elegante\n",
        "sns.set_style(\"white\")\n",
        "\n",
        "# Criar uma figura e subplots com tamanhos apropriados\n",
        "fig, axes = plt.subplots(nrows=1, ncols=2, figsize=(13, 6))\n",
        "\n",
        "# Definir a largura das barras\n",
        "bar_width = 0.6\n",
        "\n",
        "# Gráfico 1: Contagem total de suicídios por gênero\n",
        "sns.barplot(\n",
        "    x=\"Sex\",\n",
        "    y=\"SuicideCount\",\n",
        "    data=dados_ajustados,\n",
        "    ax=axes[0],\n",
        "    palette=\"tab20\",  # Definir a paleta de cores\n",
        "    estimator=lambda x: x.sum(),  # Calcular total para barras empilhadas\n",
        "    errwidth=0,  # Remover barras de erro\n",
        "    linewidth=0,\n",
        "    saturation=0.7,\n",
        "    capsize=0.1,\n",
        "    width=bar_width\n",
        ")\n",
        "\n",
        "# Adicionar rótulos de dados em milhões\n",
        "for p in axes[0].patches:\n",
        "    label = '{:.2f}M'.format(p.get_height() / 1e6)\n",
        "    axes[0].annotate(label, (p.get_x() + p.get_width() / 2., p.get_height()), \n",
        "                     ha='center', va='bottom', fontsize=10)\n",
        "\n",
        "# Personalizar título e layout\n",
        "axes[0].set_title(\"Total de Suicídios por Gênero\", fontsize=14, fontweight=\"bold\")\n",
        "axes[0].set_xlabel(\"\", fontsize=12)\n",
        "\n",
        "# Remover o eixo Y e as bordas\n",
        "axes[0].spines['top'].set_visible(False)\n",
        "axes[0].spines['right'].set_visible(False)\n",
        "axes[0].spines['left'].set_visible(False)\n",
        "axes[0].set_yticks([])  # Remover rótulos do eixo Y\n",
        "\n",
        "# Gráfico 2: Taxa de suicídio por 100k habitantes por gênero\n",
        "sns.barplot(\n",
        "    x=\"Sex\",\n",
        "    y=\"DeathRatePer100K\",\n",
        "    data=dados_ajustados,\n",
        "    ax=axes[1],\n",
        "    palette=\"tab20\",  # Definir a paleta de cores\n",
        "    estimator=lambda x: x.mean(),  # Calcular a média para barras empilhadas\n",
        "    errwidth=0,  # Remover barras de erro\n",
        "    linewidth=0,\n",
        "    saturation=0.7,\n",
        "    capsize=0.1,\n",
        "    width=bar_width\n",
        ")\n",
        "\n",
        "# Adicionar rótulos de dados em valores numéricos\n",
        "for p in axes[1].patches:\n",
        "    label = '{:.2f}'.format(p.get_height())\n",
        "    axes[1].annotate(label, (p.get_x() + p.get_width() / 2., p.get_height()), \n",
        "                     ha='center', va='bottom', fontsize=10)\n",
        "\n",
        "# Personalizar título e layout\n",
        "axes[1].set_title(\"Taxa de Suicídios por Gênero a cada 100k habitantes\", fontsize=14, fontweight=\"bold\")\n",
        "axes[1].set_xlabel(\"\", fontsize=12)\n",
        "\n",
        "# Remover o eixo Y e as bordas\n",
        "axes[1].spines['top'].set_visible(False)\n",
        "axes[1].spines['right'].set_visible(False)\n",
        "axes[1].spines['left'].set_visible(False)\n",
        "axes[1].set_yticks([])  # Remover rótulos do eixo Y\n",
        "\n",
        "#plt.subplots_adjust(wspace=0.9)\n",
        "# Ajustar layout para melhor apresentação\n",
        "plt.tight_layout()\n",
        "\n",
        "# Exibir o gráfico\n",
        "plt.show()\n",
        "\n"
      ]
    },
    {
      "cell_type": "code",
      "execution_count": 121,
      "metadata": {},
      "outputs": [
        {
          "name": "stdout",
          "output_type": "stream",
          "text": [
            "       Sex  SuicideCount  Percentage\n",
            "0   Female       57206.0       21.23\n",
            "1     Male      212141.0       78.75\n",
            "2  Unknown          50.0        0.02\n"
          ]
        }
      ],
      "source": [
        "# Agrupar os dados por gênero e somar o número total de suicídios\n",
        "suicides_by_gender_br = df_brasil.groupby('Sex')['SuicideCount'].sum().reset_index()\n",
        "\n",
        "# Calcular o total geral de suicídios\n",
        "total_suicides_br = suicides_by_gender_br['SuicideCount'].sum()\n",
        "\n",
        "# Calcular a percentagem de suicídios por gênero\n",
        "suicides_by_gender_br['Percentage'] = (suicides_by_gender_br['SuicideCount'] / total_suicides_br * 100).round(2)\n",
        "\n",
        "# Exibir o total e a percentagem de suicídios por gênero\n",
        "print(suicides_by_gender_br)"
      ]
    },
    {
      "cell_type": "code",
      "execution_count": 122,
      "metadata": {},
      "outputs": [
        {
          "name": "stdout",
          "output_type": "stream",
          "text": [
            "['0-14 years' '15-24 years' '25-34 years' '35-54 years' '55-74 years'\n",
            " '75+ years' 'Unknown']\n"
          ]
        }
      ],
      "source": [
        "# Verificar os valores únicos na coluna 'AgeGroup'\n",
        "age_group_unique_values = dados_ajustados['AgeGroup'].unique()\n",
        "print(age_group_unique_values)\n"
      ]
    },
    {
      "cell_type": "markdown",
      "metadata": {},
      "source": [
        "### Média global de Sucidios por grupo etário"
      ]
    },
    {
      "cell_type": "code",
      "execution_count": 123,
      "metadata": {},
      "outputs": [
        {
          "name": "stdout",
          "output_type": "stream",
          "text": [
            "AgeGroup\n",
            "0-14 years       2.8\n",
            "15-24 years     75.0\n",
            "25-34 years    103.9\n",
            "35-54 years    113.4\n",
            "55-74 years     78.3\n",
            "75+ years       42.0\n",
            "Unknown          2.8\n",
            "dtype: float64\n"
          ]
        }
      ],
      "source": [
        "# Criar uma tabela dinâmica com o número de suicídios por grupo etário e ano\n",
        "table = pd.pivot_table(dados_ajustados, values='SuicideCount', index=['Year'], columns=['AgeGroup'])\n",
        "\n",
        "# Reordenar as colunas para que os grupos etários fiquem em ordem crescente\n",
        "column_order = ['0-14 years', '15-24 years', '25-34 years', '35-54 years', '55-74 years', '75+ years', 'Unknown']\n",
        "table = table.reindex(column_order, axis=1)\n",
        "\n",
        "# Arredondar os valores para uma casa decimal\n",
        "table = table.round(1)\n",
        "\n",
        "# Calcular a média geral por grupo etário ao longo de todos os anos\n",
        "mean_by_age_group = table.mean().round(1)\n",
        "\n",
        "# Exibir a média por grupo etário\n",
        "print(mean_by_age_group)\n"
      ]
    },
    {
      "cell_type": "markdown",
      "metadata": {},
      "source": [
        "### Média no Brasil"
      ]
    },
    {
      "cell_type": "code",
      "execution_count": 124,
      "metadata": {
        "colab": {
          "base_uri": "https://localhost:8080/",
          "height": 158
        },
        "colab_type": "code",
        "id": "QgIVvsPVMiH0",
        "outputId": "744ccdac-cd65-4f66-f462-7bace5ab35a2"
      },
      "outputs": [
        {
          "name": "stdout",
          "output_type": "stream",
          "text": [
            "AgeGroup\n",
            "0-14 years      0.92\n",
            "15-24 years    26.44\n",
            "25-34 years    31.13\n",
            "35-54 years    24.76\n",
            "55-74 years    11.95\n",
            "75+ years       3.79\n",
            "Unknown         1.00\n",
            "dtype: float64\n"
          ]
        }
      ],
      "source": [
        "# estatística de suicídios por faixa etária\n",
        "# Criar uma tabela dinâmica com o número de suicídios por grupo etário e ano\n",
        "table = pd.pivot_table(df_brasil, values='SuicideCount', index=['Year'], columns=['AgeGroup'])\n",
        "\n",
        "# Reordenar as colunas para que os grupos etários fiquem em ordem crescente\n",
        "column_order = ['0-14 years', '15-24 years', '25-34 years', '35-54 years', '55-74 years', '75+ years', 'Unknown']\n",
        "table = table.reindex(column_order, axis=1)\n",
        "\n",
        "# Arredondar os valores para uma casa decimal\n",
        "table = table.round(1)\n",
        "\n",
        "# Calcular o total de suicídios por faixa etária (somando ao longo dos anos)\n",
        "total_by_age_group = table.sum()\n",
        "\n",
        "# Calcular o total geral de suicídios (soma de todas as faixas etárias)\n",
        "total_general = total_by_age_group.sum()\n",
        "\n",
        "# Calcular a percentagem de suicídios para cada faixa etária\n",
        "percentage_by_age_group = (total_by_age_group / total_general * 100).round(2)\n",
        "\n",
        "# Exibir a percentagem por faixa etária\n",
        "print(percentage_by_age_group)\n"
      ]
    }
  ],
  "metadata": {
    "colab": {
      "collapsed_sections": [],
      "include_colab_link": true,
      "name": "Setembro Amarelo.ipynb",
      "provenance": []
    },
    "kernelspec": {
      "display_name": "Python 3",
      "name": "python3"
    },
    "language_info": {
      "codemirror_mode": {
        "name": "ipython",
        "version": 3
      },
      "file_extension": ".py",
      "mimetype": "text/x-python",
      "name": "python",
      "nbconvert_exporter": "python",
      "pygments_lexer": "ipython3",
      "version": "3.12.5"
    }
  },
  "nbformat": 4,
  "nbformat_minor": 0
}
